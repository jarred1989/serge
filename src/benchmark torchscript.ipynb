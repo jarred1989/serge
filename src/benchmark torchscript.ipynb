{
 "cells": [
  {
   "cell_type": "markdown",
   "metadata": {},
   "source": [
    "> Author Antoine CAILLON"
   ]
  },
  {
   "cell_type": "code",
   "execution_count": 1,
   "metadata": {},
   "outputs": [],
   "source": [
    "import torch\n",
    "from time import time"
   ]
  },
  {
   "cell_type": "code",
   "execution_count": 2,
   "metadata": {},
   "outputs": [],
   "source": [
    "device = torch.device(\"cpu\")\n",
    "model = torch.jit.load(\"model_WVAE_500_no_grad.torchscript\", map_location=device)"
   ]
  },
  {
   "cell_type": "code",
   "execution_count": 3,
   "metadata": {},
   "outputs": [
    {
     "name": "stdout",
     "output_type": "stream",
     "text": [
      "Device: cpu. Spectrogram reconstruction took 399ms (mean over 100). Oups...\n",
      "Device: cuda:0. Spectrogram reconstruction took 54ms (mean over 100). Yay!\n"
     ]
    }
   ],
   "source": [
    "x = torch.Tensor([1,.2,-3,-2]).unsqueeze(0).to(device)\n",
    "o = torch.zeros([1,7]).to(device)\n",
    "s = torch.zeros([1,12]).to(device)\n",
    "o[:,4] = 1\n",
    "s[:,7] = 1\n",
    "\n",
    "t = 0\n",
    "n = 100\n",
    "\n",
    "for i in range(n):\n",
    "    st = time()\n",
    "    S  = model(x,o,s)\n",
    "    t += int(1000*(time()-st))\n",
    "    \n",
    "t = t // n\n",
    "\n",
    "print(\"Device: %s. Spectrogram reconstruction took %dms (mean over %d). %s\" % (device,t,n,\"Yay!\" if t<100 else \"Oups...\"))\n",
    "\n",
    "device = torch.device(\"cuda:0\" if torch.cuda.is_available() else \"cpu\")\n",
    "model = torch.jit.load(\"model_WVAE_500_no_grad.torchscript\", map_location=device)\n",
    "\n",
    "x = torch.Tensor([1,.2,-3,-2]).unsqueeze(0).to(device)\n",
    "o = torch.zeros([1,7]).to(device)\n",
    "s = torch.zeros([1,12]).to(device)\n",
    "o[:,4] = 1\n",
    "s[:,7] = 1\n",
    "\n",
    "t = 0\n",
    "\n",
    "for i in range(n):\n",
    "    st = time()\n",
    "    S  = model(x,o,s)\n",
    "    t += int(1000*(time()-st))\n",
    "    \n",
    "t = t // n\n",
    "\n",
    "print(\"Device: %s. Spectrogram reconstruction took %dms (mean over %d). %s\" % (device,t,n,\"Yay!\" if t<100 else \"Oups...\"))"
   ]
  },
  {
   "cell_type": "code",
   "execution_count": null,
   "metadata": {},
   "outputs": [],
   "source": []
  },
  {
   "cell_type": "code",
   "execution_count": null,
   "metadata": {},
   "outputs": [],
   "source": []
  }
 ],
 "metadata": {
  "kernelspec": {
   "display_name": "Python 3",
   "language": "python",
   "name": "python3"
  },
  "language_info": {
   "codemirror_mode": {
    "name": "ipython",
    "version": 3
   },
   "file_extension": ".py",
   "mimetype": "text/x-python",
   "name": "python",
   "nbconvert_exporter": "python",
   "pygments_lexer": "ipython3",
   "version": "3.6.7"
  }
 },
 "nbformat": 4,
 "nbformat_minor": 2
}
