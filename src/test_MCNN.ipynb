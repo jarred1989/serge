{
 "cells": [
  {
   "cell_type": "markdown",
   "metadata": {},
   "source": [
    "# Test de la reconstruction de mel spectrogram via MCNN et GRIFFIN LIM"
   ]
  },
  {
   "cell_type": "code",
   "execution_count": null,
   "metadata": {},
   "outputs": [],
   "source": [
    "from final_model import AudioDataset, WAE\n",
    "import matplotlib.pyplot as plt\n",
    "import librosa as li\n",
    "from util import MCNN, audio_utilities as au\n",
    "import torch\n",
    "from IPython.display import Audio"
   ]
  },
  {
   "cell_type": "code",
   "execution_count": null,
   "metadata": {},
   "outputs": [],
   "source": [
    "MCNNNet = MCNN.build_pretrainedMCNN(\"new_MCNNtest16\", \"../pretrained/\", 1, \"cpu\", 1, 500)[0]\n",
    "device = torch.device(\"cuda\" if torch.cuda.is_available() else \"cpu\")\n",
    "MCNNNet = MCNNNet.to(device)\n",
    "print(device)"
   ]
  },
  {
   "cell_type": "code",
   "execution_count": null,
   "metadata": {},
   "outputs": [],
   "source": [
    "uku = AudioDataset(\"../notebooks/motu/motu_dataset/*.wav\", process=False)\n",
    "model = torch.load(\"../pretrained/model_20000_epoch.pt\")\n",
    "model.eval()\n",
    "print(\"done!\")"
   ]
  },
  {
   "cell_type": "code",
   "execution_count": null,
   "metadata": {},
   "outputs": [],
   "source": [
    "plt.figure(figsize=(15,10))\n",
    "plt.imshow(uku[6],aspect=\"auto\", origin=\"lower\", cmap=\"jet\")\n",
    "plt.show()"
   ]
  },
  {
   "cell_type": "code",
   "execution_count": null,
   "metadata": {},
   "outputs": [],
   "source": [
    "idx = 9"
   ]
  },
  {
   "cell_type": "code",
   "execution_count": null,
   "metadata": {},
   "outputs": [],
   "source": [
    "x = MCNNNet(uku[idx].unsqueeze(0).to(device)).squeeze(0).cpu().detach().numpy()\n",
    "x = x[22050//5:22050]\n",
    "au.save_audio_to_file(x/max(abs(x)), fs, \"MCNN_ori.wav\")"
   ]
  },
  {
   "cell_type": "code",
   "execution_count": null,
   "metadata": {},
   "outputs": [],
   "source": [
    "Audio(x[22050//5:22050], rate=22050)"
   ]
  },
  {
   "cell_type": "code",
   "execution_count": null,
   "metadata": {},
   "outputs": [],
   "source": [
    "x = MCNNNet(model(uku[idx].unsqueeze(0).to(device))).squeeze(0).cpu().detach().numpy()\n",
    "x = x[22050//5:22050]\n",
    "au.save_audio_to_file(x/max(abs(x)), fs, \"MCNN_model.wav\")"
   ]
  },
  {
   "cell_type": "code",
   "execution_count": null,
   "metadata": {},
   "outputs": [],
   "source": [
    "Audio(x[22050//5:22050], rate=22050)"
   ]
  },
  {
   "cell_type": "code",
   "execution_count": null,
   "metadata": {},
   "outputs": [],
   "source": [
    "x, fs = li.load(uku.liste[idx].replace(\".pt\",\".wav\"))\n",
    "x = x[22050//5:22050]\n",
    "au.save_audio_to_file(x/max(abs(x)), fs, \"Ground_Truth.wav\")"
   ]
  },
  {
   "cell_type": "code",
   "execution_count": null,
   "metadata": {},
   "outputs": [],
   "source": [
    "Audio(x[22050//5:22050], rate=22050)"
   ]
  },
  {
   "cell_type": "code",
   "execution_count": null,
   "metadata": {},
   "outputs": [],
   "source": [
    "mel = li.filters.mel(fs,2048,500)\n",
    "STFT = mel.T.dot(uku[idx])\n",
    "\n",
    "x = au.reconstruct_signal_griffin_lim(STFT.T, 2048, 256, 200)\n",
    "x = x[22050//5:22050]\n",
    "au.save_audio_to_file(x/max(abs(x)), fs, \"Griffin_LIM_ori.wav\")"
   ]
  },
  {
   "cell_type": "code",
   "execution_count": null,
   "metadata": {},
   "outputs": [],
   "source": [
    "Audio(x,rate=fs)"
   ]
  },
  {
   "cell_type": "code",
   "execution_count": null,
   "metadata": {},
   "outputs": [],
   "source": [
    "mel = li.filters.mel(fs,2048,500)\n",
    "STFT = mel.T.dot(model(uku[idx].to(device).unsqueeze(0)).cpu().squeeze(0).detach().numpy())\n",
    "\n",
    "x = au.reconstruct_signal_griffin_lim(STFT.T, 2048, 256, 200)\n",
    "x = x[22050//5:22050]\n",
    "au.save_audio_to_file(x/max(abs(x)), fs, \"Griffin_LIM_model.wav\")"
   ]
  },
  {
   "cell_type": "code",
   "execution_count": null,
   "metadata": {},
   "outputs": [],
   "source": [
    "Audio(x,rate=fs)"
   ]
  },
  {
   "cell_type": "code",
   "execution_count": null,
   "metadata": {},
   "outputs": [],
   "source": []
  }
 ],
 "metadata": {
  "kernelspec": {
   "display_name": "Python 3",
   "language": "python",
   "name": "python3"
  },
  "language_info": {
   "codemirror_mode": {
    "name": "ipython",
    "version": 3
   },
   "file_extension": ".py",
   "mimetype": "text/x-python",
   "name": "python",
   "nbconvert_exporter": "python",
   "pygments_lexer": "ipython3",
   "version": "3.6.7"
  }
 },
 "nbformat": 4,
 "nbformat_minor": 2
}
