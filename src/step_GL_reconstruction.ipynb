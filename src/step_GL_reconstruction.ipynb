{
 "cells": [
  {
   "cell_type": "markdown",
   "metadata": {},
   "source": [
    "# STEP GL RECONSTRUCTION"
   ]
  },
  {
   "cell_type": "code",
   "execution_count": 70,
   "metadata": {},
   "outputs": [],
   "source": [
    "from final_model import AudioDataset, WAE\n",
    "import torch\n",
    "from util import audio_utilities as au\n",
    "import matplotlib.pyplot as plt\n",
    "import numpy as np\n",
    "import librosa as li\n",
    "from IPython.display import Audio\n",
    "from time import time"
   ]
  },
  {
   "cell_type": "code",
   "execution_count": 71,
   "metadata": {},
   "outputs": [
    {
     "name": "stderr",
     "output_type": "stream",
     "text": [
      "/home/antoine/lap/lib/python3.6/site-packages/torch/serialization.py:434: SourceChangeWarning: source code of class 'final_model.WAE' has changed. you can retrieve the original source code by accessing the object's source attribute or set `torch.nn.Module.dump_patches = True` and use the patch tool to revert the changes.\n",
      "  warnings.warn(msg, SourceChangeWarning)\n"
     ]
    },
    {
     "name": "stdout",
     "output_type": "stream",
     "text": [
      "Found 102 samples.\n"
     ]
    }
   ],
   "source": [
    "GC = AudioDataset(\"../notebooks/motu/motu_dataset/*.wav\", process=False, slice_size=128)\n",
    "WAE = torch.load(\"../pretrained/model_20000_epoch.pt\")\n",
    "print(\"Found %d samples.\" % len(GC))"
   ]
  },
  {
   "cell_type": "code",
   "execution_count": 63,
   "metadata": {},
   "outputs": [],
   "source": [
    "X = GC[0]\n",
    "\n",
    "def show_spec(X):\n",
    "    \"\"\"Affiche un spectrogramme\"\"\"\n",
    "    plt.figure(figsize=(15,10))\n",
    "    plt.imshow(X, origin=\"lower\", aspect=\"auto\")\n",
    "    plt.show()\n",
    "    \n",
    "def GL_1pass(X, partial=False):\n",
    "    \"\"\"Une passe de Griffin Lim. L'argument partial définit si l'intégralité de la phase est recherchée\n",
    "    ou si juste la motié droite du spectrogramme est reconstruite\"\"\"\n",
    "    N = X.shape[0]\n",
    "    \n",
    "    x = au.istft_for_reconstruction(X, 2048, 256)\n",
    "    X_ = au.stft_for_reconstruction(x, 2048, 256)\n",
    "    \n",
    "    if partial:\n",
    "        angle = np.angle(X_)\n",
    "        Y = abs(X).astype(complex)\n",
    "        Y[N//2:] *= np.exp(1j*angle[N//2:])\n",
    "        Y[:N//2] = X[:N//2]\n",
    "    else:\n",
    "        angle = np.angle(X_)\n",
    "        Y = abs(X).astype(complex)\n",
    "        Y *= np.exp(1j*angle)\n",
    "        \n",
    "    return Y\n",
    "\n",
    "def GL(X, iteration, partial=False):\n",
    "    \"\"\"Fais pleins de fois GL_1pass\"\"\"\n",
    "    X = X.astype(complex)\n",
    "    for i in range(iteration):\n",
    "        X = GL_1pass(X, partial=partial)\n",
    "    return X\n",
    "\n",
    "def rec(X):\n",
    "    return au.istft_for_reconstruction(X, 2048, 256)\n",
    "    \n",
    "    \n",
    "    \n",
    "mel = li.filters.mel(22050, 2048, 500)\n",
    "X = mel.T.dot(X).T.astype(complex)\n",
    "X_ = np.copy(X)"
   ]
  },
  {
   "cell_type": "code",
   "execution_count": 64,
   "metadata": {},
   "outputs": [],
   "source": [
    "slice_size = 2\n",
    "n_iter = 30\n",
    "X[:slice_size] = GL(X[:slice_size], n_iter, partial=False)\n",
    "\n",
    "# Reconstruction slice_size slices par slice_size slices.\n",
    "start = time()\n",
    "for i in range(1,X.shape[0]//slice_size):\n",
    "    X[slice_size*(i-1):slice_size*(i+1)] = GL(X[slice_size*(i-1):slice_size*(i+1)], n_iter, partial=True)\n",
    "assert time()-start < 1.57, \"Reconstruction is not real time.\""
   ]
  },
  {
   "cell_type": "code",
   "execution_count": 65,
   "metadata": {},
   "outputs": [],
   "source": [
    "y = rec(X)\n",
    "#y_ = au.reconstruct_signal_griffin_lim(X_, 2048, 256, 200)"
   ]
  },
  {
   "cell_type": "code",
   "execution_count": 66,
   "metadata": {},
   "outputs": [
    {
     "data": {
      "image/png": "[encoded data removed]",
      "text/plain": [
       "<Figure size 1080x360 with 2 Axes>"
      ]
     },
     "metadata": {
      "needs_background": "light"
     },
     "output_type": "display_data"
    }
   ],
   "source": [
    "plt.figure(figsize=(15,5))\n",
    "plt.subplot(121)\n",
    "plt.plot(y)\n",
    "plt.subplot(122)\n",
    "plt.plot(y_)\n",
    "plt.show()"
   ]
  }
 ],
 "metadata": {
  "kernelspec": {
   "display_name": "Python 3",
   "language": "python",
   "name": "python3"
  },
  "language_info": {
   "codemirror_mode": {
    "name": "ipython",
    "version": 3
   },
   "file_extension": ".py",
   "mimetype": "text/x-python",
   "name": "python",
   "nbconvert_exporter": "python",
   "pygments_lexer": "ipython3",
   "version": "3.6.7"
  }
 },
 "nbformat": 4,
 "nbformat_minor": 2
}
