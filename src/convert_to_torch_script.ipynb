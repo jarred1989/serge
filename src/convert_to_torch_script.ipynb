{
 "cells": [
  {
   "cell_type": "code",
   "execution_count": 1,
   "metadata": {},
   "outputs": [],
   "source": [
    "from final_model import WAE\n",
    "import torch\n",
    "import librosa as li"
   ]
  },
  {
   "cell_type": "code",
   "execution_count": 2,
   "metadata": {},
   "outputs": [],
   "source": [
    "mel = torch.from_numpy(li.filters.mel(22050, 2048, n_mels=500))"
   ]
  },
  {
   "cell_type": "code",
   "execution_count": 3,
   "metadata": {},
   "outputs": [
    {
     "name": "stdout",
     "output_type": "stream",
     "text": [
      "Done!\n"
     ]
    },
    {
     "name": "stderr",
     "output_type": "stream",
     "text": [
      "/home/antoine/lap/lib/python3.6/site-packages/torch/serialization.py:434: SourceChangeWarning: source code of class 'final_model.WAE' has changed. Tried to save a patch, but couldn't create a writable file WAE.patch. Make sure it doesn't exist and your working directory is writable.\n",
      "  warnings.warn(msg, SourceChangeWarning)\n"
     ]
    }
   ],
   "source": [
    "torch.nn.Module.dump_patches = True\n",
    "model = torch.load(\"model.pt\", map_location=\"cpu\")\n",
    "model.eval()\n",
    "print(\"Done!\")"
   ]
  },
  {
   "cell_type": "code",
   "execution_count": 4,
   "metadata": {},
   "outputs": [
    {
     "data": {
      "text/plain": [
       "tensor([[0.0000, 0.0000, 0.0000,  ..., 0.0000, 0.0000, 0.0000],\n",
       "        [0.0461, 0.0351, 0.0328,  ..., 0.0326, 0.0337, 0.0470],\n",
       "        [0.0457, 0.0338, 0.0316,  ..., 0.0305, 0.0311, 0.0448],\n",
       "        ...,\n",
       "        [0.0015, 0.0014, 0.0014,  ..., 0.0014, 0.0014, 0.0016],\n",
       "        [0.0007, 0.0007, 0.0007,  ..., 0.0007, 0.0007, 0.0008],\n",
       "        [0.0000, 0.0000, 0.0000,  ..., 0.0000, 0.0000, 0.0000]],\n",
       "       grad_fn=<MmBackward>)"
      ]
     },
     "execution_count": 4,
     "metadata": {},
     "output_type": "execute_result"
    }
   ],
   "source": [
    "model.forward = model.sample\n",
    "model(torch.Tensor([1,2,1,2]).unsqueeze(0), torch.Tensor([.5]).unsqueeze(0))"
   ]
  },
  {
   "cell_type": "code",
   "execution_count": 5,
   "metadata": {},
   "outputs": [
    {
     "name": "stderr",
     "output_type": "stream",
     "text": [
      "/home/antoine/dev/serge/src/final_model.py:178: TracerWarning: torch.from_numpy results are registered as constants in the trace. You can safely ignore this warning if you use this function to create tensors out of constant variables that would be the same every time you call this function. In any other case, this might cause the trace to be incorrect.\n",
      "  mel = torch.from_numpy(li.filters.mel(22050, 2048, n_mels=500)).float()\n"
     ]
    }
   ],
   "source": [
    "traced_model = torch.jit.trace(model, [torch.Tensor([1,2,1,2]).unsqueeze(0), torch.Tensor([.5]).unsqueeze(0)] )"
   ]
  },
  {
   "cell_type": "code",
   "execution_count": 6,
   "metadata": {},
   "outputs": [],
   "source": [
    "traced_model.save(\"model_moins_bidon.pt\")"
   ]
  },
  {
   "cell_type": "code",
   "execution_count": null,
   "metadata": {},
   "outputs": [],
   "source": []
  }
 ],
 "metadata": {
  "kernelspec": {
   "display_name": "Python 3",
   "language": "python",
   "name": "python3"
  },
  "language_info": {
   "codemirror_mode": {
    "name": "ipython",
    "version": 3
   },
   "file_extension": ".py",
   "mimetype": "text/x-python",
   "name": "python",
   "nbconvert_exporter": "python",
   "pygments_lexer": "ipython3",
   "version": "3.6.7"
  }
 },
 "nbformat": 4,
 "nbformat_minor": 2
}
