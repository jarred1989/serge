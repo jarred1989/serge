{
 "cells": [
  {
   "cell_type": "markdown",
   "metadata": {},
   "source": [
    "# NOTEBOOK D'EXPLOITATION DES MODELES ENTRAINES\n",
    "Dans ce notebook on... exploite des modèles préentrainés.\n",
    "Un modèle préentrainé est disponible à l'[adresse suivante](https://filesender.renater.fr/?s=download&token=413fa625-51f0-bd9e-67c3-979f9440dbb4).\n",
    "Il a été généré avec la commande ```python VAE_MNIST.py --cuda```, et entraîné sur un nombre incroyable de 1 EPOCH. C'est tout pourri mais c'est en attendant d'avoir un ```/home/``` sur **laphroaig**.\n",
    "\n",
    "Amusez vous les cocos on est là pour ça."
   ]
  },
  {
   "cell_type": "code",
   "execution_count": null,
   "metadata": {},
   "outputs": [],
   "source": [
    "import torch\n",
    "from torchvision.datasets import MNIST\n",
    "import matplotlib.pyplot as plt\n",
    "import numpy as np\n",
    "from torchvision.transforms import transforms\n",
    "model = torch.load(\"model_reduced_sum.torch\", map_location=\"cpu\")"
   ]
  },
  {
   "cell_type": "code",
   "execution_count": null,
   "metadata": {},
   "outputs": [],
   "source": [
    "testset = MNIST(root='./MNIST/',\n",
    "                train=False,\n",
    "                transform=transforms.ToTensor(),\n",
    "                download=True)"
   ]
  },
  {
   "cell_type": "code",
   "execution_count": null,
   "metadata": {},
   "outputs": [],
   "source": [
    "img = testset[10][0]"
   ]
  },
  {
   "cell_type": "code",
   "execution_count": null,
   "metadata": {},
   "outputs": [],
   "source": [
    "def show(img):\n",
    "    plt.imshow(img.squeeze(0).detach().numpy(), cmap=\"Greys\")\n",
    "    plt.axis(\"off\")"
   ]
  },
  {
   "cell_type": "code",
   "execution_count": null,
   "metadata": {},
   "outputs": [],
   "source": [
    "forward = lambda img: model.decode(model.sample(*model.encode(img)))"
   ]
  },
  {
   "cell_type": "code",
   "execution_count": null,
   "metadata": {},
   "outputs": [],
   "source": [
    "plt.figure(figsize=(5,5))\n",
    "\n",
    "size = 6\n",
    "\n",
    "tirage = np.random.randint(0,10000,size**2)\n",
    "\n",
    "for i in range(size**2):\n",
    "    plt.subplot(size,size,i+1)\n",
    "    show(forward(testset[tirage[i]][0]).squeeze(0))\n",
    "\n",
    "plt.show()\n",
    "\n",
    "plt.figure(figsize=(5,5))\n",
    "\n",
    "\n",
    "for i in range(size**2):\n",
    "    plt.subplot(size,size,i+1)\n",
    "    show(testset[tirage[i]][0])\n",
    "\n",
    "plt.show()"
   ]
  },
  {
   "cell_type": "code",
   "execution_count": null,
   "metadata": {},
   "outputs": [],
   "source": []
  },
  {
   "cell_type": "code",
   "execution_count": null,
   "metadata": {},
   "outputs": [],
   "source": []
  }
 ],
 "metadata": {
  "kernelspec": {
   "display_name": "Python 3",
   "language": "python",
   "name": "python3"
  },
  "language_info": {
   "codemirror_mode": {
    "name": "ipython",
    "version": 3
   },
   "file_extension": ".py",
   "mimetype": "text/x-python",
   "name": "python",
   "nbconvert_exporter": "python",
   "pygments_lexer": "ipython3",
   "version": "3.6.7"
  }
 },
 "nbformat": 4,
 "nbformat_minor": 2
}
