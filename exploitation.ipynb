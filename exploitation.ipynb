{
 "cells": [
  {
   "cell_type": "markdown",
   "metadata": {},
   "source": [
    "# NOTEBOOK D'EXPLOITATION DES MODELES ENTRAINES\n",
    "Dans ce notebook on... exploite des modèles préentrainés.\n",
    "Un modèle préentrainé est disponible à l'[adresse suivante](https://filesender.renater.fr/?s=download&token=413fa625-51f0-bd9e-67c3-979f9440dbb4).\n",
    "Il a été généré avec la commande ```python VAE_MNIST.py --cuda```, et entraîné sur un nombre incroyable de 1 EPOCH. C'est tout pourri mais c'est en attendant d'avoir un ```/home/``` sur **laphroaig**.\n",
    "\n",
    "Amusez vous les cocos on est là pour ça."
   ]
  },
  {
   "cell_type": "code",
   "execution_count": 88,
   "metadata": {},
   "outputs": [],
   "source": [
    "import torch\n",
    "from torchvision.datasets import MNIST\n",
    "from torchvision.transforms import transforms\n",
    "model = torch.load(\"model_reduced_sum.torch\", map_location=\"cpu\")"
   ]
  },
  {
   "cell_type": "code",
   "execution_count": 89,
   "metadata": {},
   "outputs": [],
   "source": [
    "testset = MNIST(root='./MNIST/',\n",
    "                train=False,\n",
    "                transform=transforms.ToTensor(),\n",
    "                download=True)"
   ]
  },
  {
   "cell_type": "code",
   "execution_count": 94,
   "metadata": {},
   "outputs": [],
   "source": [
    "img = testset[10][0]"
   ]
  },
  {
   "cell_type": "code",
   "execution_count": 95,
   "metadata": {},
   "outputs": [],
   "source": [
    "def show(img):\n",
    "    plt.imshow(img.squeeze(0).detach().numpy(), cmap=\"Greys\")"
   ]
  },
  {
   "cell_type": "code",
   "execution_count": 96,
   "metadata": {},
   "outputs": [],
   "source": [
    "logvar, mu = model.encode(img)\n",
    "z = model.sample(logvar,mu)\n",
    "rec = model.decode(z).squeeze(0)"
   ]
  },
  {
   "cell_type": "code",
   "execution_count": 99,
   "metadata": {},
   "outputs": [
    {
     "data": {
      "image/png": "[encoded data removed]",
      "text/plain": [
       "<Figure size 1080x1080 with 2 Axes>"
      ]
     },
     "metadata": {
      "needs_background": "light"
     },
     "output_type": "display_data"
    }
   ],
   "source": [
    "plt.figure(figsize=(15,15))\n",
    "plt.subplot(121)\n",
    "show(img)\n",
    "plt.subplot(122)\n",
    "show(rec)\n",
    "plt.show()"
   ]
  },
  {
   "cell_type": "code",
   "execution_count": null,
   "metadata": {},
   "outputs": [],
   "source": []
  }
 ],
 "metadata": {
  "kernelspec": {
   "display_name": "Python 3",
   "language": "python",
   "name": "python3"
  },
  "language_info": {
   "codemirror_mode": {
    "name": "ipython",
    "version": 3
   },
   "file_extension": ".py",
   "mimetype": "text/x-python",
   "name": "python",
   "nbconvert_exporter": "python",
   "pygments_lexer": "ipython3",
   "version": "3.6.7"
  }
 },
 "nbformat": 4,
 "nbformat_minor": 2
}
