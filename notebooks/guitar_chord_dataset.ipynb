{
 "cells": [
  {
   "cell_type": "code",
   "execution_count": 15,
   "metadata": {},
   "outputs": [],
   "source": [
    "import torch\n",
    "from torch.utils import data\n",
    "import torch.nn as nn\n",
    "from glob import glob\n",
    "import matplotlib.pyplot as plt\n",
    "import librosa as li"
   ]
  },
  {
   "cell_type": "code",
   "execution_count": 154,
   "metadata": {},
   "outputs": [],
   "source": [
    "class GuitarChord(data.Dataset):\n",
    "    def __init__(self):\n",
    "        self.liste = glob(\"AC_GuitarChords/*.wav\")\n",
    "        print(\"Preprocessing stuff... \", end=\"\")\n",
    "        \n",
    "        for elm in self.liste:\n",
    "            [x,fs] = li.load(elm)\n",
    "            x = x[:4*fs]\n",
    "            mel = li.filters.mel(fs,2048,500)\n",
    "            S = torch.from_numpy(mel.dot(abs(li.stft(x,n_fft=2048,)))).float()\n",
    "            torch.save(S,elm.replace(\".wav\",\".pt\"))\n",
    "        \n",
    "        print(\"Done!\")\n",
    "    def __getitem__(self,i):\n",
    "        return torch.load(self.liste[i].replace(\".wav\",\".pt\"))\n",
    "    \n",
    "    def __len__(self):\n",
    "        return len(self.liste)\n",
    "            \n",
    "class WAE(nn.Module):\n",
    "    def __init__(self):\n",
    "        super(WAE,self).__init__()\n",
    "        size = [1, 16, 32, 64, 128, 256]\n",
    "        zdim = 32\n",
    "        \n",
    "        self.act = nn.LeakyReLU()\n",
    "        \n",
    "        self.enc1 = nn.Conv2d(size[0],size[1],stride=2, kernel_size=5, padding=2)\n",
    "        self.enc2 = nn.Conv2d(size[1],size[2],stride=2, kernel_size=5, padding=2)\n",
    "        self.enc3 = nn.Conv2d(size[2],size[3],stride=2, kernel_size=5, padding=2)\n",
    "        self.enc4 = nn.Conv2d(size[3],size[4],stride=2, kernel_size=5, padding=2)\n",
    "        self.enc5 = nn.Conv2d(size[4],size[5],stride=2, kernel_size=5, padding=2)\n",
    "        \n",
    "        self.lin1 = nn.Linear(256*16*6, 1024)\n",
    "        self.lin2 = nn.Linear(1024, 256)\n",
    "        self.lin3 = nn.Linear(256, zdim)\n",
    "        \n",
    "        self.dec1 = nn.ConvTranspose2d(size[1],size[0],stride=2, kernel_size=5, padding=2)\n",
    "        self.dec2 = nn.ConvTranspose2d(size[2],size[1],stride=2, kernel_size=5, padding=2)\n",
    "        self.dec3 = nn.ConvTranspose2d(size[3],size[2],stride=2, kernel_size=5, padding=2)\n",
    "        self.dec4 = nn.ConvTranspose2d(size[4],size[3],stride=2, kernel_size=5, padding=2)\n",
    "        self.dec5 = nn.ConvTranspose2d(size[5],size[4],stride=2, kernel_size=5, padding=2)\n",
    "        \n",
    "        self.dlin1 = nn.Linear(1024,256*16*6)\n",
    "        self.dlin2 = nn.Linear(256,1024)\n",
    "        self.dlin3 = nn.Linear(zdim,256)\n",
    "        \n",
    "        self.f1   = nn.Sequential(self.enc1,\n",
    "                                nn.BatchNorm2d(num_features=size[1]),self.act, \n",
    "                                self.enc2,\n",
    "                                nn.BatchNorm2d(num_features=size[2]),self.act, \n",
    "                                self.enc3,\n",
    "                                nn.BatchNorm2d(num_features=size[3]),self.act, \n",
    "                                self.enc4,\n",
    "                                nn.BatchNorm2d(num_features=size[4]),self.act, \n",
    "                                self.enc5,\n",
    "                                nn.BatchNorm2d(num_features=size[5]),self.act)\n",
    "        \n",
    "        self.f2   = nn.Sequential(self.lin1,\n",
    "                                 nn.BatchNorm1d(num_features=1024),self.act,  \n",
    "                                 self.lin2,\n",
    "                                 nn.BatchNorm1d(num_features=256),self.act,\n",
    "                                 self.lin3)\n",
    "        \n",
    "        self.f3   = nn.Sequential(self.dlin3,\n",
    "                                  nn.BatchNorm1d(num_features=256), self.act,\n",
    "                                  self.dlin2,\n",
    "                                  nn.BatchNorm1d(num_features=1024), self.act,\n",
    "                                  self.dlin1,\n",
    "                                  nn.BatchNorm1d(num_features=256*16*6), self.act)\n",
    "        \n",
    "        self.f4   = nn.Sequential(self.dec5,\n",
    "                                 nn.BatchNorm2d(num_features=))\n",
    "                                  \n",
    "        \n",
    "        \n",
    "        \n",
    "    def flatten(self, inp):\n",
    "        dim = 1\n",
    "        for i,elm in enumerate(inp.size()):\n",
    "            if i!=0:\n",
    "                dim *= elm\n",
    "        return inp.view(-1,dim)\n",
    "    \n",
    "    def encode(self, inp):\n",
    "        inp = inp.unsqueeze(1)\n",
    "        inp = self.f1(inp)\n",
    "        inp = self.flatten(inp)\n",
    "        inp = self.f2(inp)\n",
    "        return inp\n",
    "        \n",
    "    \n",
    "    def forward(self,inp):\n",
    "        return self.decode(self.encode(inp))\n",
    "        \n",
    "        \n",
    "        \n",
    "        "
   ]
  },
  {
   "cell_type": "code",
   "execution_count": 155,
   "metadata": {},
   "outputs": [],
   "source": [
    "#GC = GuitarChord()\n",
    "GCloader = data.DataLoader(GC, batch_size=8, shuffle=True)"
   ]
  },
  {
   "cell_type": "code",
   "execution_count": 156,
   "metadata": {},
   "outputs": [],
   "source": [
    "model = WAE()"
   ]
  },
  {
   "cell_type": "code",
   "execution_count": 157,
   "metadata": {},
   "outputs": [
    {
     "name": "stdout",
     "output_type": "stream",
     "text": [
      "torch.Size([8, 32])\n",
      "torch.Size([8, 32])\n"
     ]
    }
   ],
   "source": [
    "for i,o in enumerate(GCloader):\n",
    "    print(model.encode(o).size())"
   ]
  },
  {
   "cell_type": "code",
   "execution_count": null,
   "metadata": {},
   "outputs": [],
   "source": []
  }
 ],
 "metadata": {
  "kernelspec": {
   "display_name": "Python 3",
   "language": "python",
   "name": "python3"
  },
  "language_info": {
   "codemirror_mode": {
    "name": "ipython",
    "version": 3
   },
   "file_extension": ".py",
   "mimetype": "text/x-python",
   "name": "python",
   "nbconvert_exporter": "python",
   "pygments_lexer": "ipython3",
   "version": "3.6.7"
  }
 },
 "nbformat": 4,
 "nbformat_minor": 2
}
