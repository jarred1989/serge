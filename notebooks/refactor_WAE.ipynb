{
 "cells": [
  {
   "cell_type": "code",
   "execution_count": 1,
   "metadata": {
    "colab": {
     "base_uri": "https://localhost:8080/",
     "height": 343
    },
    "colab_type": "code",
    "id": "pA8PGVYjS06V",
    "outputId": "97684ae7-90cd-4a5d-9da3-ff4f10759564"
   },
   "outputs": [
    {
     "name": "stdout",
     "output_type": "stream",
     "text": [
      "Requirement already satisfied: torch in c:\\tools\\anaconda3\\lib\\site-packages (0.4.1)\n",
      "Collecting torchvision\n",
      "  Using cached https://files.pythonhosted.org/packages/ca/0d/f00b2885711e08bd71242ebe7b96561e6f6d01fdb4b9dcf4d37e2e13c5e1/torchvision-0.2.1-py2.py3-none-any.whl\n",
      "Requirement already satisfied: pillow>=4.1.1 in c:\\tools\\anaconda3\\lib\\site-packages (from torchvision) (5.2.0)\n",
      "Requirement already satisfied: six in c:\\tools\\anaconda3\\lib\\site-packages (from torchvision) (1.11.0)\n",
      "Requirement already satisfied: numpy in c:\\tools\\anaconda3\\lib\\site-packages (from torchvision) (1.15.1)\n",
      "Installing collected packages: torchvision\n",
      "Successfully installed torchvision-0.2.1\n"
     ]
    },
    {
     "name": "stderr",
     "output_type": "stream",
     "text": [
      "twisted 18.7.0 requires PyHamcrest>=1.9.0, which is not installed.\n",
      "You are using pip version 10.0.1, however version 18.1 is available.\n",
      "You should consider upgrading via the 'python -m pip install --upgrade pip' command.\n"
     ]
    }
   ],
   "source": [
    "!pip install torch torchvision"
   ]
  },
  {
   "cell_type": "code",
   "execution_count": 0,
   "metadata": {
    "cellView": "form",
    "colab": {
     "base_uri": "https://localhost:8080/",
     "height": 35
    },
    "colab_type": "code",
    "id": "6R41hC53S7aj",
    "outputId": "30d47fed-6cfd-4565-888f-48e4f0b79665"
   },
   "outputs": [
    {
     "name": "stdout",
     "output_type": "stream",
     "text": [
      "cuda:0\n"
     ]
    }
   ],
   "source": [
    "#@title Importing libraries...\n",
    "import torch\n",
    "import torch.nn as nn\n",
    "import torch.nn.functional as F\n",
    "import torch.optim as optim\n",
    "\n",
    "import matplotlib.pyplot as plt\n",
    "from plotly.offline import plot\n",
    "import plotly.graph_objs as go\n",
    "import plotly\n",
    "\n",
    "%matplotlib inline\n",
    "\n",
    "import numpy as np\n",
    "\n",
    "from google.colab import files\n",
    "import pickle as pk\n",
    "\n",
    "from torch.utils.data import DataLoader\n",
    "\n",
    "from torchvision.transforms import transforms\n",
    "from torchvision.datasets import MNIST\n",
    "#from torchvision.datasets import MNIST\n",
    "\n",
    "from IPython import display\n",
    "\n",
    "device = torch.device(\"cuda:0\" if torch.cuda.is_available() else \"cpu\")\n",
    "#device = torch.device(\"cpu\")\n",
    "print(device)\n",
    "\n",
    "def enable_plotly_in_cell():\n",
    "  import IPython\n",
    "  from plotly.offline import init_notebook_mode\n",
    "  display(IPython.core.display.HTML('''<script src=\"/static/components/requirejs/require.js\"></script>'''))\n",
    "  init_notebook_mode(connected=False)"
   ]
  },
  {
   "cell_type": "code",
   "execution_count": 0,
   "metadata": {
    "cellView": "form",
    "colab": {
     "base_uri": "https://localhost:8080/",
     "height": 125
    },
    "colab_type": "code",
    "id": "npQjq0_fTF39",
    "outputId": "048e6652-6095-4e95-ac6f-a16114dacfa3"
   },
   "outputs": [
    {
     "name": "stdout",
     "output_type": "stream",
     "text": [
      "Downloading http://yann.lecun.com/exdb/mnist/train-images-idx3-ubyte.gz\n",
      "Downloading http://yann.lecun.com/exdb/mnist/train-labels-idx1-ubyte.gz\n",
      "Downloading http://yann.lecun.com/exdb/mnist/t10k-images-idx3-ubyte.gz\n",
      "Downloading http://yann.lecun.com/exdb/mnist/t10k-labels-idx1-ubyte.gz\n",
      "Processing...\n",
      "Done!\n"
     ]
    }
   ],
   "source": [
    "#@title Loading dataset\n",
    "trainset = MNIST(root='./dataMNIST/',\n",
    "                 train=True,\n",
    "                 transform=transforms.ToTensor(),\n",
    "                 download=True)\n",
    "testset = MNIST(root='./dataMNIST/',\n",
    "                train=False,\n",
    "                transform=transforms.ToTensor(),\n",
    "                download=True)\n",
    "labels = ['#0','#1','#2','#3','#4','#5','#6','#7','#8','#9']\n",
    "\n",
    "N_train = len(trainset)\n",
    "N_test = len(testset)\n",
    "\n",
    "batch=128\n",
    "\n",
    "train_loader = DataLoader(dataset=trainset,\n",
    "                          batch_size=batch,\n",
    "                          shuffle=True)\n",
    "\n",
    "test_loader = DataLoader(dataset=testset,\n",
    "                         batch_size=batch,\n",
    "                         shuffle=False)"
   ]
  },
  {
   "cell_type": "code",
   "execution_count": 0,
   "metadata": {
    "cellView": "form",
    "colab": {},
    "colab_type": "code",
    "id": "3c589B5zUaie"
   },
   "outputs": [],
   "source": [
    "#@title Establishing architecture\n",
    "class AE(nn.Module):\n",
    "  def __init__(self):\n",
    "    super(AE,self).__init__()\n",
    "    \n",
    "    self.act   = nn.LeakyReLU()\n",
    "    self.tanh  = nn.Tanh()\n",
    "    \n",
    "    self.z_dim = 32\n",
    "    \n",
    "    self.enc1  = nn.Conv2d(1,128,5,padding=2,stride=2)\n",
    "    self.enc1s = nn.Sequential(nn.BatchNorm2d(128),\\\n",
    "                               self.act)\n",
    "    \n",
    "    self.enc2  = nn.Conv2d(128,256,5,padding=2,stride=2)\n",
    "    self.enc2s = nn.Sequential(nn.BatchNorm2d(256),\\\n",
    "                               self.act)\n",
    "    \n",
    "    self.enc3  = nn.Linear(7*7*256,1024)\n",
    "    self.enc3s = nn.Sequential(nn.BatchNorm1d(1024),\\\n",
    "                               self.act)\n",
    "    \n",
    "    self.enc4  = nn.Linear(1024,128)\n",
    "    self.enc4s = nn.Sequential(nn.BatchNorm1d(128),\\\n",
    "                               self.act)\n",
    "    \n",
    "    self.logvar = nn.Linear(128,self.z_dim)\n",
    "    \n",
    "    self.mu    = nn.Linear(128, self.z_dim)\n",
    "    \n",
    "    self.dec1  = nn.Linear(self.z_dim,128)\n",
    "    self.dec1s = nn.Sequential(nn.BatchNorm1d(128),\\\n",
    "                               self.act)\n",
    "    \n",
    "    self.dec2  = nn.Linear(128,1024)\n",
    "    self.dec2s = nn.Sequential(nn.BatchNorm1d(1024),\\\n",
    "                               self.act)\n",
    "    \n",
    "    self.dec3  = nn.Linear(1024,7*7*256)\n",
    "    self.dec3s = nn.Sequential(nn.BatchNorm1d(7*7*256),\\\n",
    "                               self.act)\n",
    "    \n",
    "    self.dec4  = nn.ConvTranspose2d(256,128,5,stride=2,padding=2)\n",
    "    self.dec4s = nn.Sequential(nn.BatchNorm2d(128),\\\n",
    "                               self.act)\n",
    "    \n",
    "    self.dec5  = nn.ConvTranspose2d(128,1,5,stride=2,padding=2)\n",
    "    self.dec5s = nn.Sequential(nn.BatchNorm2d(1),\\\n",
    "                               self.act)\n",
    "    \n",
    "    self.dec6  = nn.ConvTranspose2d(1,1,4,stride=1,padding=0)\n",
    "    self.dec6s = nn.Sequential(nn.BatchNorm2d(1),\\\n",
    "                               nn.Sigmoid())\n",
    "    \n",
    "    #nn.init.xavier_normal_(self.enc1.weight.data)\n",
    "    #nn.init.xavier_normal_(self.enc2.weight.data)\n",
    "    #nn.init.xavier_normal_(self.enc3.weight.data)\n",
    "    #nn.init.xavier_normal_(self.enc4.weight.data)\n",
    "    #nn.init.xavier_normal_(self.logvar.weight.data)\n",
    "    #nn.init.xavier_normal_(self.mu.weight.data)\n",
    "    #nn.init.xavier_normal_(self.dec1.weight.data)\n",
    "    #nn.init.xavier_normal_(self.dec2.weight.data)\n",
    "    #nn.init.xavier_normal_(self.dec3.weight.data)\n",
    "    #nn.init.xavier_normal_(self.dec4.weight.data)\n",
    "    #nn.init.xavier_normal_(self.dec5.weight.data)\n",
    "    #nn.init.xavier_normal_(self.dec6.weight.data)\n",
    "\n",
    "    \n",
    "  def encode(self,x):\n",
    "    x = x.unsqueeze(1)\n",
    "    #ENCODE\n",
    "    x = self.enc1s(self.enc1(x))\n",
    "    x = self.enc2s(self.enc2(x))\n",
    "    x = x.view(-1,self.num_flat_features(x))\n",
    "    x = self.enc3s(self.enc3(x))\n",
    "    x = self.enc4s(self.enc4(x))\n",
    "    \n",
    "    logvar = self.logvar(x)\n",
    "    mu     = self.mu(x)\n",
    "    \n",
    "    return logvar,mu\n",
    "  \n",
    "  def sample(self,logvar,mu):\n",
    "    return mu + torch.randn_like(mu)*torch.exp(.5*logvar)\n",
    "  \n",
    "  def decode(self,x):\n",
    "    #DECODE\n",
    "    x = self.dec1s(self.dec1(x))\n",
    "    x = self.dec2s(self.dec2(x))\n",
    "    x = self.dec3s(self.dec3(x))\n",
    "    x = x.view(-1,256,7,7)\n",
    "    x = self.dec4s(self.dec4(x))\n",
    "    x = self.dec5s(self.dec5(x))\n",
    "    x = self.dec6s(self.dec6(x))\n",
    "    return x\n",
    "  \n",
    "  def forward(self,x):\n",
    "    logvar,mu = self.encode(x)\n",
    "    z         = self.sample(logvar,mu)\n",
    "    y         = self.decode(z)\n",
    "    return y\n",
    "  \n",
    "  def num_flat_features(self,x):\n",
    "    size = x.size()[1:]\n",
    "    num  = 1\n",
    "    for s in size:\n",
    "      num *= s\n",
    "    return num\n",
    "  \n",
    "model     = AE()\n",
    "model     = model.to(device)\n",
    "\n",
    "lr        = 1e-4"
   ]
  },
  {
   "cell_type": "code",
   "execution_count": 0,
   "metadata": {
    "cellView": "both",
    "colab": {},
    "colab_type": "code",
    "id": "PwO0hi7K0gBc"
   },
   "outputs": [],
   "source": [
    "model = torch.load(\"model.torch\").to(device)"
   ]
  },
  {
   "cell_type": "code",
   "execution_count": 9,
   "metadata": {},
   "outputs": [],
   "source": [
    "import sys\n",
    "sys.path.append('src/train')\n",
    "from wae import train_wae\n",
    "\n",
    "number_of_epochs=300\n",
    "learning_rate = 1e-3\n",
    "lr_decay = 0.2\n",
    "lambda_factor=1\n",
    "\n",
    "train_wae(model, train_loader, device, number_of_epochs, learning_rate, lr_decay, lambda_factor)"
   ]
  },
  {
   "cell_type": "code",
   "execution_count": 0,
   "metadata": {
    "cellView": "form",
    "colab": {
     "base_uri": "https://localhost:8080/",
     "height": 611
    },
    "colab_type": "code",
    "id": "IuLIRdYKrNnD",
    "outputId": "d810088a-ea2c-4e0e-ac61-5d05f8717d8c"
   },
   "outputs": [
    {
     "data": {
      "image/png": "[encoded data removed]",
      "text/plain": [
       "<matplotlib.figure.Figure at 0x7f73dab39630>"
      ]
     },
     "metadata": {
      "tags": []
     },
     "output_type": "display_data"
    },
    {
     "data": {
      "image/png": "[encoded data removed]",
      "text/plain": [
       "<matplotlib.figure.Figure at 0x7f73f02335f8>"
      ]
     },
     "metadata": {
      "tags": []
     },
     "output_type": "display_data"
    },
    {
     "data": {
      "image/png": "[encoded data removed]",
      "text/plain": [
       "<matplotlib.figure.Figure at 0x7f73dae84a90>"
      ]
     },
     "metadata": {
      "tags": []
     },
     "output_type": "display_data"
    }
   ],
   "source": [
    "#@title Reconstruction test\n",
    "model.eval()\n",
    "for i in range(3):\n",
    "  with torch.no_grad():\n",
    "    inp = testset[np.random.randint(0,1000)][0].to(device)\n",
    "    out = model(inp).squeeze(0).squeeze(0)\n",
    "    plt.subplot(121)\n",
    "    plt.imshow(inp.squeeze(0).squeeze(0).cpu().numpy(),interpolation=\"none\")\n",
    "    plt.grid()\n",
    "    plt.title(\"original\")\n",
    "    plt.subplot(122)\n",
    "    plt.imshow(out.cpu().numpy(),interpolation=\"none\")\n",
    "    plt.grid()\n",
    "    plt.title(\"reconstructed\")\n",
    "    plt.show()"
   ]
  },
  {
   "cell_type": "code",
   "execution_count": 0,
   "metadata": {
    "cellView": "form",
    "colab": {
     "base_uri": "https://localhost:8080/",
     "height": 35
    },
    "colab_type": "code",
    "id": "x8evQ3zRKsyt",
    "outputId": "7847e7ad-1cce-4052-e617-9c771e6662dd"
   },
   "outputs": [
    {
     "data": {
      "text/plain": [
       "'file:///content/temp-plot.html'"
      ]
     },
     "execution_count": 19,
     "metadata": {
      "tags": []
     },
     "output_type": "execute_result"
    }
   ],
   "source": [
    "#@title Displaying 3D PCA latent space\n",
    "\n",
    "def load_test_set(n):\n",
    "  y = torch.cat([testset[i][0] for i in range(n)],0)\n",
    "  z = [testset[i][1] for i in range(n)]\n",
    "  return y,z\n",
    "\n",
    "n = 10000\n",
    "\n",
    "with torch.no_grad():\n",
    "  x,label   = load_test_set(n)\n",
    "  logvar,mu = model.encode(x.to(device))\n",
    "  z         = model.sample(logvar,mu).cpu().numpy()\n",
    "\n",
    "Rxx = np.cov(z.T)\n",
    "[U,S,V] = np.linalg.svd(Rxx,full_matrices=True)\n",
    "W = U[:,:3]\n",
    "\n",
    "latent = z.dot(W)\n",
    "\n",
    "sort = np.argsort(label)\n",
    "label = np.asarray(label)[sort]\n",
    "latent = latent[sort,:]\n",
    "\n",
    "data = []\n",
    "\n",
    "for i in range(10):\n",
    "  data.append(go.Scatter3d(x=latent[label==i,0],\n",
    "                     y =latent[label==i,1],\n",
    "                     z =latent[label==i,2],\n",
    "                     mode = 'markers',\n",
    "                     marker = dict(size=2,\n",
    "                                  color=i,\n",
    "                                  colorscale=\"Jet\",\n",
    "                                  opacity=.8)))\n",
    "\n",
    "fig = go.Figure(data=data)\n",
    "plot(fig)\n",
    "\n",
    "#for i in range(10):\n",
    "#  plt.plot(latent[label==i,0],latent[label==i,1],\"C{}.\".format(i))\n",
    "#plt.legend(range(10))\n",
    "#plt.title(\"PC 1\")\n",
    "#plt.gcf().set_size_inches(8,8)\n",
    "#plt.show()\n",
    "\n",
    "#for i in range(10):\n",
    "#  plt.plot(latent[label==i,2],latent[label==i,3],\"C{}.\".format(i))  \n",
    "#plt.legend(range(10))\n",
    "#plt.title(\"PC 2\")\n",
    "#plt.gcf().set_size_inches(8,8)\n",
    "#plt.show()"
   ]
  },
  {
   "cell_type": "code",
   "execution_count": 0,
   "metadata": {
    "cellView": "form",
    "colab": {},
    "colab_type": "code",
    "id": "h5BMIWEReezf"
   },
   "outputs": [],
   "source": [
    "#@title Reconstruction from the 2D latent space\n",
    "model.eval()\n",
    "with torch.no_grad():\n",
    "  #test = torch.tensor(np.asarray([-5,0]).dot(W.T),dtype=torch.float).to(device)\n",
    "  test = torch.tensor(latent[3,:].dot(W.T),dtype=torch.float).to(device)\n",
    "  img  = model.decode(test.unsqueeze(0)).squeeze(0).squeeze(0)\n",
    "  plt.imshow(img.cpu().numpy())\n",
    "  plt.grid()\n",
    "  plt.show()"
   ]
  },
  {
   "cell_type": "code",
   "execution_count": 0,
   "metadata": {
    "cellView": "both",
    "colab": {
     "base_uri": "https://localhost:8080/",
     "height": 262
    },
    "colab_type": "code",
    "id": "i3NT523dYgTc",
    "outputId": "47364083-45df-4864-8b22-163598374e19"
   },
   "outputs": [
    {
     "name": "stdout",
     "output_type": "stream",
     "text": [
      "rm: cannot remove '/tmp/output': No such file or directory\n"
     ]
    },
    {
     "ename": "ValueError",
     "evalue": "ignored",
     "output_type": "error",
     "traceback": [
      "\u001b[0;31m---------------------------------------------------------------------------\u001b[0m",
      "\u001b[0;31mValueError\u001b[0m                                Traceback (most recent call last)",
      "\u001b[0;32m<ipython-input-13-82ca11fcf518>\u001b[0m in \u001b[0;36m<module>\u001b[0;34m()\u001b[0m\n\u001b[1;32m      4\u001b[0m \u001b[0;32mfor\u001b[0m \u001b[0mi\u001b[0m \u001b[0;32min\u001b[0m \u001b[0mrange\u001b[0m\u001b[0;34m(\u001b[0m\u001b[0;36m200\u001b[0m\u001b[0;34m)\u001b[0m\u001b[0;34m:\u001b[0m\u001b[0;34m\u001b[0m\u001b[0;34m\u001b[0m\u001b[0m\n\u001b[1;32m      5\u001b[0m   \u001b[0;32mwith\u001b[0m \u001b[0mtorch\u001b[0m\u001b[0;34m.\u001b[0m\u001b[0mno_grad\u001b[0m\u001b[0;34m(\u001b[0m\u001b[0;34m)\u001b[0m\u001b[0;34m:\u001b[0m\u001b[0;34m\u001b[0m\u001b[0;34m\u001b[0m\u001b[0m\n\u001b[0;32m----> 6\u001b[0;31m     \u001b[0mtest\u001b[0m \u001b[0;34m=\u001b[0m \u001b[0mtorch\u001b[0m\u001b[0;34m.\u001b[0m\u001b[0mtensor\u001b[0m\u001b[0;34m(\u001b[0m\u001b[0mnp\u001b[0m\u001b[0;34m.\u001b[0m\u001b[0masarray\u001b[0m\u001b[0;34m(\u001b[0m\u001b[0;34m[\u001b[0m\u001b[0;36m5\u001b[0m\u001b[0;34m*\u001b[0m\u001b[0mnp\u001b[0m\u001b[0;34m.\u001b[0m\u001b[0mcos\u001b[0m\u001b[0;34m(\u001b[0m\u001b[0mx\u001b[0m\u001b[0;34m[\u001b[0m\u001b[0mi\u001b[0m\u001b[0;34m]\u001b[0m\u001b[0;34m)\u001b[0m\u001b[0;34m,\u001b[0m\u001b[0;36m5\u001b[0m\u001b[0;34m*\u001b[0m\u001b[0mnp\u001b[0m\u001b[0;34m.\u001b[0m\u001b[0msin\u001b[0m\u001b[0;34m(\u001b[0m\u001b[0mx\u001b[0m\u001b[0;34m[\u001b[0m\u001b[0mi\u001b[0m\u001b[0;34m]\u001b[0m\u001b[0;34m)\u001b[0m\u001b[0;34m]\u001b[0m\u001b[0;34m)\u001b[0m\u001b[0;34m.\u001b[0m\u001b[0mdot\u001b[0m\u001b[0;34m(\u001b[0m\u001b[0mW\u001b[0m\u001b[0;34m.\u001b[0m\u001b[0mT\u001b[0m\u001b[0;34m)\u001b[0m\u001b[0;34m,\u001b[0m\u001b[0mdtype\u001b[0m\u001b[0;34m=\u001b[0m\u001b[0mtorch\u001b[0m\u001b[0;34m.\u001b[0m\u001b[0mfloat\u001b[0m\u001b[0;34m)\u001b[0m\u001b[0;34m.\u001b[0m\u001b[0mto\u001b[0m\u001b[0;34m(\u001b[0m\u001b[0mdevice\u001b[0m\u001b[0;34m)\u001b[0m\u001b[0;34m\u001b[0m\u001b[0;34m\u001b[0m\u001b[0m\n\u001b[0m\u001b[1;32m      7\u001b[0m     \u001b[0;31m#test = torch.tensor(latent[3,:].dot(W.T),dtype=torch.float).to(device)\u001b[0m\u001b[0;34m\u001b[0m\u001b[0;34m\u001b[0m\u001b[0;34m\u001b[0m\u001b[0m\n\u001b[1;32m      8\u001b[0m     \u001b[0mimg\u001b[0m  \u001b[0;34m=\u001b[0m \u001b[0mmodel\u001b[0m\u001b[0;34m.\u001b[0m\u001b[0mdecode\u001b[0m\u001b[0;34m(\u001b[0m\u001b[0mtest\u001b[0m\u001b[0;34m.\u001b[0m\u001b[0munsqueeze\u001b[0m\u001b[0;34m(\u001b[0m\u001b[0;36m0\u001b[0m\u001b[0;34m)\u001b[0m\u001b[0;34m)\u001b[0m\u001b[0;34m.\u001b[0m\u001b[0msqueeze\u001b[0m\u001b[0;34m(\u001b[0m\u001b[0;36m0\u001b[0m\u001b[0;34m)\u001b[0m\u001b[0;34m.\u001b[0m\u001b[0msqueeze\u001b[0m\u001b[0;34m(\u001b[0m\u001b[0;36m0\u001b[0m\u001b[0;34m)\u001b[0m\u001b[0;34m\u001b[0m\u001b[0;34m\u001b[0m\u001b[0m\n",
      "\u001b[0;31mValueError\u001b[0m: shapes (2,) and (3,32) not aligned: 2 (dim 0) != 3 (dim 0)"
     ]
    }
   ],
   "source": [
    "#@title Animation\n",
    "!rm -r /tmp/output\n",
    "!mkdir /tmp/output\n",
    "x = np.linspace(0,2*np.pi,200)\n",
    "for i in range(200):\n",
    "  with torch.no_grad():\n",
    "    test = torch.tensor(np.asarray([5*np.cos(x[i]),5*np.sin(x[i])]).dot(W.T),dtype=torch.float).to(device)\n",
    "    #test = torch.tensor(latent[3,:].dot(W.T),dtype=torch.float).to(device)\n",
    "    img  = model.decode(test.unsqueeze(0)).squeeze(0).squeeze(0)\n",
    "    plt.imshow(img.cpu().numpy(),interpolation=\"none\")\n",
    "    plt.grid()\n",
    "    #plt.savefig(\"/tmp/output/img_{:03d}.jpg\".format(i))\n",
    "    plt.show()\n",
    "!cd /tmp/ && zip image.zip /tmp/output/*.jpg\n",
    "from google.colab import files"
   ]
  },
  {
   "cell_type": "code",
   "execution_count": 0,
   "metadata": {
    "colab": {},
    "colab_type": "code",
    "id": "hCLgZPftb7hm"
   },
   "outputs": [],
   "source": [
    "with torch.no_grad():\n",
    "  z = model.sample(*model.encode(minibatch)).cpu().numpy()\n",
    "  \n",
    "print(\"Minibatch var  = %f\" % np.var(z))\n",
    "print(\"Minibatch mean = %f\" % np.mean(z))"
   ]
  },
  {
   "cell_type": "code",
   "execution_count": 0,
   "metadata": {
    "colab": {},
    "colab_type": "code",
    "id": "RPWNAEGwRA7Q"
   },
   "outputs": [],
   "source": [
    "files.download('/tmp/image.zip')"
   ]
  },
  {
   "cell_type": "code",
   "execution_count": 0,
   "metadata": {
    "cellView": "form",
    "colab": {},
    "colab_type": "code",
    "id": "5PSrCgLIK6uT"
   },
   "outputs": [],
   "source": [
    "#@title Interpolation\n",
    "y,img = load_test_set(2)\n",
    "n = 20\n",
    "x = torch.linspace(0,1,n).to(device)\n",
    "z = model.sample(*model.encode(y.to(device)))\n",
    "\n",
    "\n",
    "model.eval()\n",
    "with torch.no_grad():\n",
    "  for i in range(n):\n",
    "    z_i = (z[0]*x[i] + z[1]*(1-x[i])).unsqueeze(0)\n",
    "    img = model.decode(z_i).cpu().numpy().reshape([28,28])\n",
    "    plt.imshow(img)\n",
    "    plt.grid()\n",
    "    plt.savefig(\"{:03d}.png\".format(i))\n",
    "    plt.show()"
   ]
  },
  {
   "cell_type": "code",
   "execution_count": 0,
   "metadata": {
    "colab": {},
    "colab_type": "code",
    "id": "EYWkoKhJLrOf"
   },
   "outputs": [],
   "source": [
    "img.shape"
   ]
  },
  {
   "cell_type": "code",
   "execution_count": 0,
   "metadata": {
    "colab": {},
    "colab_type": "code",
    "id": "jlXfcs1cNY2l"
   },
   "outputs": [],
   "source": [
    "!zip image.zip *.png"
   ]
  }
 ],
 "metadata": {
  "accelerator": "GPU",
  "colab": {
   "collapsed_sections": [],
   "name": "first_WAE.ipynb",
   "provenance": [],
   "version": "0.3.2"
  },
  "kernelspec": {
   "display_name": "Python 3",
   "language": "python",
   "name": "python3"
  },
  "language_info": {
   "codemirror_mode": {
    "name": "ipython",
    "version": 3
   },
   "file_extension": ".py",
   "mimetype": "text/x-python",
   "name": "python",
   "nbconvert_exporter": "python",
   "pygments_lexer": "ipython3",
   "version": "3.7.0"
  }
 },
 "nbformat": 4,
 "nbformat_minor": 1
}
