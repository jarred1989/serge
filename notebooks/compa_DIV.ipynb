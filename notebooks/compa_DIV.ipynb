{
 "cells": [
  {
   "cell_type": "markdown",
   "metadata": {},
   "source": [
    "# Comparaison des distances inter-distributions\n",
    "Dans ce notebook on compare selon plusieurs critères les performances entre plusieurs distances (KLD, MMD-RBF, MMD_IRQ)"
   ]
  },
  {
   "cell_type": "code",
   "execution_count": null,
   "metadata": {},
   "outputs": [],
   "source": [
    "import numpy as np\n",
    "import torch\n",
    "import matplotlib.pyplot as plt\n",
    "from math import *\n",
    "\n",
    "def KLD(var, mu):\n",
    "    return .5 * (var - 1 + mu**2 - np.log(var))"
   ]
  },
  {
   "cell_type": "code",
   "execution_count": null,
   "metadata": {},
   "outputs": [],
   "source": [
    "mu = np.linspace(0,10,6).reshape(1,6)\n",
    "var = np.linspace(.1,15,1000).reshape(1000,1)"
   ]
  },
  {
   "cell_type": "code",
   "execution_count": null,
   "metadata": {},
   "outputs": [],
   "source": [
    "def KL_bench(var,mu):\n",
    "    KL_bench = KLD(var,mu)\n",
    "    plt.plot(var,KL_bench)\n",
    "    plt.xlabel(\"var\")\n",
    "    plt.ylabel(\"KLD\")"
   ]
  },
  {
   "cell_type": "code",
   "execution_count": null,
   "metadata": {},
   "outputs": [],
   "source": [
    "def compute_kernel(x, y):\n",
    "    x_size = x.size(0)\n",
    "    y_size = y.size(0)\n",
    "    dim = x.size(1)\n",
    "    x = x.unsqueeze(1) # (x_size, 1, dim)\n",
    "    y = y.unsqueeze(0) # (1, y_size, dim)\n",
    "    tiled_x = x.expand(x_size, y_size, dim)\n",
    "    tiled_y = y.expand(x_size, y_size, dim)\n",
    "    kernel_input = (tiled_x - tiled_y).pow(2).mean(2)/float(dim)\n",
    "    return torch.exp(-kernel_input) # (x_size, y_size)\n",
    "\n",
    "def compute_mmd(x, y):\n",
    "    x_kernel = compute_kernel(x, x)\n",
    "    y_kernel = compute_kernel(y, y)\n",
    "    xy_kernel = compute_kernel(x, y)\n",
    "    mmd = x_kernel.mean() + y_kernel.mean() - 2*xy_kernel.mean()\n",
    "    return mmd\n",
    "\n",
    "def RBF_bench(var,mu,n):\n",
    "    var = torch.from_numpy(var).float().squeeze(1)\n",
    "    mu  = torch.from_numpy(mu).float().squeeze(0)\n",
    "    \n",
    "    RBF = torch.zeros([len(mu),len(var)])\n",
    "    \n",
    "    for i in range(len(mu)):\n",
    "        for j in range(len(var)):\n",
    "            sample = torch.randn(n)*torch.sqrt(var[j]) + mu[i]\n",
    "            prior  = torch.randn(n)\n",
    "            RBF[i,j] = compute_mmd(sample.unsqueeze(0),prior.unsqueeze(0))\n",
    "    plt.plot(var.numpy(),RBF.numpy().T)\n",
    "    plt.xlabel(\"var\")\n",
    "    plt.ylabel(\"MMDRBF\")\n",
    "    plt.show()"
   ]
  },
  {
   "cell_type": "code",
   "execution_count": null,
   "metadata": {},
   "outputs": [],
   "source": [
    "plt.figure(figsize=(10,5))\n",
    "plt.subplot(121)\n",
    "KL_bench(var,mu)\n",
    "plt.subplot(122)\n",
    "RBF_bench(var,mu,10000)"
   ]
  },
  {
   "cell_type": "code",
   "execution_count": null,
   "metadata": {},
   "outputs": [],
   "source": []
  },
  {
   "cell_type": "code",
   "execution_count": null,
   "metadata": {},
   "outputs": [],
   "source": []
  }
 ],
 "metadata": {
  "kernelspec": {
   "display_name": "Python 3",
   "language": "python",
   "name": "python3"
  },
  "language_info": {
   "codemirror_mode": {
    "name": "ipython",
    "version": 3
   },
   "file_extension": ".py",
   "mimetype": "text/x-python",
   "name": "python",
   "nbconvert_exporter": "python",
   "pygments_lexer": "ipython3",
   "version": "3.6.7"
  }
 },
 "nbformat": 4,
 "nbformat_minor": 2
}
