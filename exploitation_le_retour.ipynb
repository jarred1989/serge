{
 "cells": [
  {
   "cell_type": "markdown",
   "metadata": {},
   "source": [
    "# Exploitation: LE RETOUR\n",
    "<img width=300px src=\"https://pbs.twimg.com/profile_images/496812657341890561/m9vimoug.jpeg\">"
   ]
  },
  {
   "cell_type": "code",
   "execution_count": 1,
   "metadata": {},
   "outputs": [
    {
     "name": "stderr",
     "output_type": "stream",
     "text": [
      "/home/antoine/lap/lib/python3.6/site-packages/torch/serialization.py:434: SourceChangeWarning: source code of class 'src.final_model.WAE' has changed. you can retrieve the original source code by accessing the object's source attribute or set `torch.nn.Module.dump_patches = True` and use the patch tool to revert the changes.\n",
      "  warnings.warn(msg, SourceChangeWarning)\n"
     ]
    },
    {
     "name": "stdout",
     "output_type": "stream",
     "text": [
      "Preprocessing stuff... \n",
      "===========Done!\n"
     ]
    }
   ],
   "source": [
    "import torch\n",
    "from torch.utils.data import DataLoader\n",
    "from src.final_model import WAE, AudioDataset\n",
    "\n",
    "from src.util import audio_utilities as au\n",
    "\n",
    "import librosa as li\n",
    "\n",
    "from sklearn.manifold import TSNE\n",
    "import matplotlib.pyplot as plt\n",
    "\n",
    "from IPython.display import Audio\n",
    "\n",
    "import numpy as np\n",
    "\n",
    "model = torch.load(\"pretrained/model_20000_epoch.pt\")\n",
    "model.eval()\n",
    "motu  = DataLoader(AudioDataset(\"notebooks/motu/motu_dataset/*.wav\", process=True, slice_size=128), batch_size=20, shuffle=True, drop_last=True)"
   ]
  },
  {
   "cell_type": "code",
   "execution_count": 3,
   "metadata": {},
   "outputs": [],
   "source": [
    "def show_spec(X):\n",
    "    \"\"\"Affiche un spectrogramme\"\"\"\n",
    "    plt.figure(figsize=(15,10))\n",
    "    plt.imshow(X, origin=\"lower\", aspect=\"auto\")\n",
    "    plt.show()\n",
    "    \n",
    "def GL_1pass(X, partial=False):\n",
    "    \"\"\"Une passe de Griffin Lim. L'argument partial définit si l'intégralité de la phase est recherchée\n",
    "    ou si juste la motié droite du spectrogramme est reconstruite\"\"\"\n",
    "    N = X.shape[0]\n",
    "    \n",
    "    x = au.istft_for_reconstruction(X, 2048, 256)\n",
    "    X_ = au.stft_for_reconstruction(x, 2048, 256)\n",
    "    \n",
    "    if partial:\n",
    "        angle = np.angle(X_)\n",
    "        Y = abs(X).astype(complex)\n",
    "        Y[N//2:] *= np.exp(1j*angle[N//2:])\n",
    "        Y[:N//2] = X[:N//2]\n",
    "    else:\n",
    "        angle = np.angle(X_)\n",
    "        Y = abs(X).astype(complex)\n",
    "        Y *= np.exp(1j*angle)\n",
    "        \n",
    "    return Y\n",
    "\n",
    "def GL(X, iteration, partial=False):\n",
    "    \"\"\"Fais pleins de fois GL_1pass\"\"\"\n",
    "    X = X.astype(complex)\n",
    "    for i in range(iteration):\n",
    "        X = GL_1pass(X, partial=partial)\n",
    "    return X\n",
    "\n",
    "def rec(X):\n",
    "    return au.istft_for_reconstruction(X, 2048, 256)\n",
    "    \n",
    "def listen(out):\n",
    "    return rec(li.filters.mel(22050, 2048, 500).T.dot(out))\n",
    "    \n",
    "mel = li.filters.mel(22050, 2048, 500)\n",
    "#X = mel.T.dot(X).T.astype(complex)"
   ]
  },
  {
   "cell_type": "code",
   "execution_count": 4,
   "metadata": {},
   "outputs": [],
   "source": [
    "device = torch.device(\"cuda:0\" if torch.cuda.is_available() else \"cpu\")\n",
    "\n",
    "for idx, (minibatch, f) in enumerate(motu):\n",
    "    minibatch = minibatch.to(device)\n",
    "    z = model.encode(minibatch)\n",
    "\n",
    "z = z.detach().cpu().numpy()\n",
    "\n",
    "del(minibatch)\n",
    "torch.cuda.empty_cache()"
   ]
  },
  {
   "cell_type": "code",
   "execution_count": 17,
   "metadata": {},
   "outputs": [
    {
     "name": "stdout",
     "output_type": "stream",
     "text": [
      "Embedded latent space of dimension 32 into 2 dimensions\n"
     ]
    }
   ],
   "source": [
    "z_embedded = TSNE().fit_transform(z)\n",
    "print(\"Embedded latent space of dimension %d into %d dimensions\" % (z.shape[1], z_embedded.shape[1]))"
   ]
  },
  {
   "cell_type": "code",
   "execution_count": 18,
   "metadata": {},
   "outputs": [
    {
     "data": {
      "image/png": "[encoded data removed]",
      "text/plain": [
       "<Figure size 720x720 with 1 Axes>"
      ]
     },
     "metadata": {
      "needs_background": "light"
     },
     "output_type": "display_data"
    }
   ],
   "source": [
    "plt.figure(figsize=(10,10))\n",
    "plt.plot(z_embedded[:,0], z_embedded[:,1], '.')\n",
    "plt.show()"
   ]
  },
  {
   "cell_type": "code",
   "execution_count": 19,
   "metadata": {},
   "outputs": [
    {
     "name": "stdout",
     "output_type": "stream",
     "text": [
      "(5, 32)\n"
     ]
    }
   ],
   "source": [
    "gp1_x = z_embedded[:,0] < -4.5\n",
    "gp1_y = z_embedded[:,1] > 6\n",
    "\n",
    "gp1   = z[gp1_x*gp1_y,:]\n",
    "\n",
    "print(gp1.shape)"
   ]
  },
  {
   "cell_type": "code",
   "execution_count": 20,
   "metadata": {},
   "outputs": [
    {
     "ename": "TypeError",
     "evalue": "decode() missing 1 required positional argument: 'f'",
     "output_type": "error",
     "traceback": [
      "\u001b[0;31m---------------------------------------------------------------------------\u001b[0m",
      "\u001b[0;31mTypeError\u001b[0m                                 Traceback (most recent call last)",
      "\u001b[0;32m<ipython-input-20-9015e3b7d398>\u001b[0m in \u001b[0;36m<module>\u001b[0;34m\u001b[0m\n\u001b[1;32m      1\u001b[0m \u001b[0mmodel\u001b[0m\u001b[0;34m.\u001b[0m\u001b[0mn_trames\u001b[0m \u001b[0;34m=\u001b[0m \u001b[0;36m128\u001b[0m\u001b[0;34m\u001b[0m\u001b[0;34m\u001b[0m\u001b[0m\n\u001b[0;32m----> 2\u001b[0;31m \u001b[0mout\u001b[0m \u001b[0;34m=\u001b[0m \u001b[0mmodel\u001b[0m\u001b[0;34m.\u001b[0m\u001b[0mdecode\u001b[0m\u001b[0;34m(\u001b[0m\u001b[0mtorch\u001b[0m\u001b[0;34m.\u001b[0m\u001b[0mfrom_numpy\u001b[0m\u001b[0;34m(\u001b[0m\u001b[0mgp1\u001b[0m\u001b[0;34m)\u001b[0m\u001b[0;34m.\u001b[0m\u001b[0mto\u001b[0m\u001b[0;34m(\u001b[0m\u001b[0mdevice\u001b[0m\u001b[0;34m)\u001b[0m\u001b[0;34m)\u001b[0m\u001b[0;34m.\u001b[0m\u001b[0mdetach\u001b[0m\u001b[0;34m(\u001b[0m\u001b[0;34m)\u001b[0m\u001b[0;34m.\u001b[0m\u001b[0mcpu\u001b[0m\u001b[0;34m(\u001b[0m\u001b[0;34m)\u001b[0m\u001b[0;34m.\u001b[0m\u001b[0mnumpy\u001b[0m\u001b[0;34m(\u001b[0m\u001b[0;34m)\u001b[0m\u001b[0;34m\u001b[0m\u001b[0;34m\u001b[0m\u001b[0m\n\u001b[0m",
      "\u001b[0;31mTypeError\u001b[0m: decode() missing 1 required positional argument: 'f'"
     ]
    }
   ],
   "source": [
    "model.n_trames = 128\n",
    "out = model.decode(torch.from_numpy(gp1).to(device)).detach().cpu().numpy()"
   ]
  },
  {
   "cell_type": "markdown",
   "metadata": {},
   "source": [
    "## test modèle semi supervisé"
   ]
  },
  {
   "cell_type": "code",
   "execution_count": 20,
   "metadata": {},
   "outputs": [
    {
     "data": {
      "text/plain": [
       "[<matplotlib.lines.Line2D at 0x7f66b01f2a20>]"
      ]
     },
     "execution_count": 20,
     "metadata": {},
     "output_type": "execute_result"
    },
    {
     "data": {
      "image/png": "[encoded data removed]",
      "text/plain": [
       "<Figure size 432x288 with 1 Axes>"
      ]
     },
     "metadata": {
      "needs_background": "light"
     },
     "output_type": "display_data"
    }
   ],
   "source": [
    "model = torch.load(\"pretrained/motu_supervised_2_900_epoch.pt\")\n",
    "\n",
    "motu  = DataLoader(AudioDataset(\"notebooks/motu/motu_dataset/*.wav\", process=False, slice_size=128), batch_size=20, shuffle=False, drop_last=True)\n",
    "\n",
    "spec, freq = next(iter(motu))\n",
    "spec = spec.to(device)\n",
    "freq = freq.to(device).unsqueeze(1)\n",
    "\n",
    "\n",
    "plt.plot(freq.cpu().detach().numpy(), 'o')"
   ]
  },
  {
   "cell_type": "code",
   "execution_count": 19,
   "metadata": {},
   "outputs": [
    {
     "data": {
      "image/png": "[encoded data removed]",
      "text/plain": [
       "<Figure size 1080x720 with 1 Axes>"
      ]
     },
     "metadata": {
      "needs_background": "light"
     },
     "output_type": "display_data"
    }
   ],
   "source": [
    "out = model(spec,freq).detach().cpu().numpy()\n",
    "\n",
    "show_spec(out[4,:,:])"
   ]
  },
  {
   "cell_type": "code",
   "execution_count": null,
   "metadata": {},
   "outputs": [],
   "source": []
  }
 ],
 "metadata": {
  "kernelspec": {
   "display_name": "Python 3",
   "language": "python",
   "name": "python3"
  },
  "language_info": {
   "codemirror_mode": {
    "name": "ipython",
    "version": 3
   },
   "file_extension": ".py",
   "mimetype": "text/x-python",
   "name": "python",
   "nbconvert_exporter": "python",
   "pygments_lexer": "ipython3",
   "version": "3.6.7"
  }
 },
 "nbformat": 4,
 "nbformat_minor": 2
}
