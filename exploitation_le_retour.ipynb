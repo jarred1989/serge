{
 "cells": [
  {
   "cell_type": "markdown",
   "metadata": {},
   "source": [
    "# Explotation: LE RETOUR\n",
    "<img width=300px src=\"https://pbs.twimg.com/profile_images/496812657341890561/m9vimoug.jpeg\">"
   ]
  },
  {
   "cell_type": "code",
   "execution_count": 1,
   "metadata": {},
   "outputs": [
    {
     "name": "stderr",
     "output_type": "stream",
     "text": [
      "/home/antoine/lap/lib/python3.6/site-packages/torch/serialization.py:434: SourceChangeWarning: source code of class 'src.final_model.WAE' has changed. you can retrieve the original source code by accessing the object's source attribute or set `torch.nn.Module.dump_patches = True` and use the patch tool to revert the changes.\n",
      "  warnings.warn(msg, SourceChangeWarning)\n"
     ]
    },
    {
     "name": "stdout",
     "output_type": "stream",
     "text": [
      "Preprocessing stuff... \n",
      "===========Done!\n"
     ]
    }
   ],
   "source": [
    "import torch\n",
    "from torch.utils.data import DataLoader\n",
    "from src.final_model import WAE, AudioDataset\n",
    "\n",
    "from src.util import audio_utilities as au\n",
    "\n",
    "import librosa as li\n",
    "\n",
    "from sklearn.manifold import TSNE\n",
    "import matplotlib.pyplot as plt\n",
    "\n",
    "from IPython.display import Audio\n",
    "\n",
    "import numpy as np\n",
    "\n",
    "model = torch.load(\"pretrained/model_20000_epoch.pt\")\n",
    "model.eval()\n",
    "motu  = DataLoader(AudioDataset(\"notebooks/motu/motu_dataset/*.wav\", process=True, slice_size=128), batch_size=100, shuffle=True, drop_last=True)"
   ]
  },
  {
   "cell_type": "code",
   "execution_count": null,
   "metadata": {},
   "outputs": [],
   "source": [
    "def show_spec(X):\n",
    "    \"\"\"Affiche un spectrogramme\"\"\"\n",
    "    plt.figure(figsize=(15,10))\n",
    "    plt.imshow(X, origin=\"lower\", aspect=\"auto\")\n",
    "    plt.show()\n",
    "    \n",
    "def GL_1pass(X, partial=False):\n",
    "    \"\"\"Une passe de Griffin Lim. L'argument partial définit si l'intégralité de la phase est recherchée\n",
    "    ou si juste la motié droite du spectrogramme est reconstruite\"\"\"\n",
    "    N = X.shape[0]\n",
    "    \n",
    "    x = au.istft_for_reconstruction(X, 2048, 256)\n",
    "    X_ = au.stft_for_reconstruction(x, 2048, 256)\n",
    "    \n",
    "    if partial:\n",
    "        angle = np.angle(X_)\n",
    "        Y = abs(X).astype(complex)\n",
    "        Y[N//2:] *= np.exp(1j*angle[N//2:])\n",
    "        Y[:N//2] = X[:N//2]\n",
    "    else:\n",
    "        angle = np.angle(X_)\n",
    "        Y = abs(X).astype(complex)\n",
    "        Y *= np.exp(1j*angle)\n",
    "        \n",
    "    return Y\n",
    "\n",
    "def GL(X, iteration, partial=False):\n",
    "    \"\"\"Fais pleins de fois GL_1pass\"\"\"\n",
    "    X = X.astype(complex)\n",
    "    for i in range(iteration):\n",
    "        X = GL_1pass(X, partial=partial)\n",
    "    return X\n",
    "\n",
    "def rec(X):\n",
    "    return au.istft_for_reconstruction(X, 2048, 256)\n",
    "    \n",
    "    \n",
    "    \n",
    "mel = li.filters.mel(22050, 2048, 500)\n",
    "#X = mel.T.dot(X).T.astype(complex)"
   ]
  },
  {
   "cell_type": "code",
   "execution_count": null,
   "metadata": {},
   "outputs": [],
   "source": [
    "device = torch.device(\"cuda:0\" if torch.cuda.is_available() else \"cpu\")\n",
    "\n",
    "for idx, (minibatch, f) in enumerate(motu):\n",
    "    print(f)\n",
    "    minibatch = minibatch.to(device)\n",
    "    z = model.encode(minibatch)\n",
    "\n",
    "z = z.detach().cpu().numpy()\n",
    "\n",
    "del(minibatch)\n",
    "torch.cuda.empty_cache()"
   ]
  },
  {
   "cell_type": "code",
   "execution_count": null,
   "metadata": {},
   "outputs": [],
   "source": [
    "z_embedded = TSNE().fit_transform(z)\n",
    "print(\"Embedded latent space of dimension %d into %d dimensions\" % (z.shape[1], z_embedded.shape[1]))"
   ]
  },
  {
   "cell_type": "code",
   "execution_count": null,
   "metadata": {},
   "outputs": [],
   "source": [
    "plt.figure(figsize=(10,10))\n",
    "plt.plot(z_embedded[:,0], z_embedded[:,1], '.')\n",
    "plt.show()"
   ]
  },
  {
   "cell_type": "code",
   "execution_count": null,
   "metadata": {},
   "outputs": [],
   "source": [
    "gp1_x = z_embedded[:,0] < -4.5\n",
    "gp1_y = z_embedded[:,1] > 6\n",
    "\n",
    "gp1   = z[gp1_x*gp1_y,:]\n",
    "\n",
    "print(gp1.shape)"
   ]
  },
  {
   "cell_type": "code",
   "execution_count": null,
   "metadata": {},
   "outputs": [],
   "source": [
    "model.n_trames = 128\n",
    "out = model.decode(torch.from_numpy(gp1).to(device)).detach().cpu().numpy()"
   ]
  },
  {
   "cell_type": "code",
   "execution_count": null,
   "metadata": {},
   "outputs": [],
   "source": [
    "liste_audio = []\n",
    "\n",
    "for i in range(out.shape[0]):\n",
    "    print(i, end=\"\", flush=True)\n",
    "    X = mel.T.dot(out[i,:,:]).T\n",
    "    liste_audio.append(rec(GL(X,300)))"
   ]
  },
  {
   "cell_type": "code",
   "execution_count": null,
   "metadata": {},
   "outputs": [],
   "source": [
    "y = np.concatenate(liste_audio)\n",
    "Audio(y, rate=22050)"
   ]
  },
  {
   "cell_type": "code",
   "execution_count": null,
   "metadata": {},
   "outputs": [],
   "source": [
    "au.save_audio_to_file(y/max(abs(y)), 22050, outfile=\"pate1.wav\")"
   ]
  },
  {
   "cell_type": "code",
   "execution_count": null,
   "metadata": {},
   "outputs": [],
   "source": [
    "print(boolean)"
   ]
  },
  {
   "cell_type": "code",
   "execution_count": null,
   "metadata": {},
   "outputs": [],
   "source": [
    "x,fs = li.load(\"notebooks/motu/motu_dataset/motu_sample_008.wav\")"
   ]
  },
  {
   "cell_type": "code",
   "execution_count": null,
   "metadata": {},
   "outputs": [],
   "source": [
    "xx = np.correlate(x,x, mode=\"full\")[len(x):]\n",
    "fmin = 100\n",
    "fmax = 2000\n",
    "\n",
    "tmin = fs//fmax\n",
    "tmax = fs//fmin\n",
    "\n",
    "f = 1/(np.argmax(xx[tmin:tmax])+tmin)"
   ]
  },
  {
   "cell_type": "code",
   "execution_count": null,
   "metadata": {},
   "outputs": [],
   "source": [
    "print(f)"
   ]
  },
  {
   "cell_type": "code",
   "execution_count": null,
   "metadata": {},
   "outputs": [],
   "source": [
    "x_ = np.fft.fft(x)\n",
    "f_ = np.linspace(0,fs,len(x_))\n",
    "\n",
    "plt.plot(f_,np.log(abs(x_)))\n",
    "plt.axis([100,1000,None,None])"
   ]
  },
  {
   "cell_type": "code",
   "execution_count": 2,
   "metadata": {},
   "outputs": [
    {
     "data": {
      "text/plain": [
       "(tensor([[0.0000e+00, 0.0000e+00, 0.0000e+00,  ..., 9.5320e-03, 9.1242e-03,\n",
       "          6.6580e-03],\n",
       "         [0.0000e+00, 0.0000e+00, 0.0000e+00,  ..., 1.5626e-02, 1.4958e-02,\n",
       "          1.0915e-02],\n",
       "         [0.0000e+00, 0.0000e+00, 0.0000e+00,  ..., 6.3098e-03, 7.2415e-03,\n",
       "          5.9576e-03],\n",
       "         ...,\n",
       "         [0.0000e+00, 0.0000e+00, 0.0000e+00,  ..., 9.1664e-07, 9.6390e-07,\n",
       "          8.6701e-07],\n",
       "         [0.0000e+00, 0.0000e+00, 0.0000e+00,  ..., 1.1626e-06, 1.2333e-06,\n",
       "          1.1112e-06],\n",
       "         [0.0000e+00, 0.0000e+00, 0.0000e+00,  ..., 8.6457e-07, 9.9605e-07,\n",
       "          1.0791e-06]]), 0.017241379310344827)"
      ]
     },
     "execution_count": 2,
     "metadata": {},
     "output_type": "execute_result"
    }
   ],
   "source": [
    "GC = AudioDataset(\"notebooks/motu/motu_dataset/*.wav\", process=False, slice_size=128)\n",
    "GC[4]"
   ]
  },
  {
   "cell_type": "code",
   "execution_count": null,
   "metadata": {},
   "outputs": [],
   "source": []
  }
 ],
 "metadata": {
  "kernelspec": {
   "display_name": "Python 3",
   "language": "python",
   "name": "python3"
  },
  "language_info": {
   "codemirror_mode": {
    "name": "ipython",
    "version": 3
   },
   "file_extension": ".py",
   "mimetype": "text/x-python",
   "name": "python",
   "nbconvert_exporter": "python",
   "pygments_lexer": "ipython3",
   "version": "3.6.7"
  }
 },
 "nbformat": 4,
 "nbformat_minor": 2
}
