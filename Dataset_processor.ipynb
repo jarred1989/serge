{
 "cells": [
  {
   "cell_type": "markdown",
   "metadata": {},
   "source": [
    "# Dataset processor\n",
    "> Author: Thibault Geoffroy\n",
    "\n",
    "This notebook does the following:\n",
    "1. Compile Faust DSP files to CPP files\n",
    "2. Compile said CPP files with clang++\n",
    "3. Processes every file from the SOL Dataset with every effect\n",
    "\n",
    "### Dependencies:\n",
    "First, you can install `clang++` and `faust` from the repos:\n",
    "```bash\n",
    "sudo apt-get install clang faust\n",
    "```\n",
    "\n",
    "Then, install [libsndfile](https://github.com/erikd/libsndfile/):\n",
    "```bash\n",
    "git clone git://github.com/erikd/libsndfile.git\n",
    "sudo apt install autoconf autogen automake build-essential libasound2-dev \\\n",
    "    libflac-dev libogg-dev libtool libvorbis-dev pkg-config python\n",
    "./autogen.sh\n",
    "./configure --enable-werror\n",
    "make\n",
    "make install\n",
    "```\n"
   ]
  },
  {
   "cell_type": "code",
   "execution_count": 3,
   "metadata": {},
   "outputs": [],
   "source": [
    "import torch\n",
    "from torch.utils import data\n",
    "import glob\n",
    "import os"
   ]
  },
  {
   "cell_type": "code",
   "execution_count": 4,
   "metadata": {},
   "outputs": [],
   "source": [
    "for file in glob.glob('faust/**/*.dsp',recursive=True):\n",
    "    with open(file, 'r') as original: data = original.read()\n",
    "    with open(file, 'w') as modified: modified.write(\"// Author: Thibault Geoffroy\\n\" + data)"
   ]
  },
  {
   "cell_type": "markdown",
   "metadata": {},
   "source": [
    "## DSP files compilation\n",
    "1. compile faust to cpp: `faust -a sndfile.cpp gain-stereo.dsp > gain-stereo.cpp`\n",
    "2. compile cpp to executable: `clang++ -o gain-stereo -lsndfile gain-stereo.cpp`"
   ]
  },
  {
   "cell_type": "code",
   "execution_count": 29,
   "metadata": {},
   "outputs": [
    {
     "name": "stdout",
     "output_type": "stream",
     "text": [
      "DSP files compilation done!\n"
     ]
    }
   ],
   "source": [
    "REGENERATE_CPP = False\n",
    "COMPILE_CPP = False\n",
    "\n",
    "for file in glob.glob('faust/**/*.dsp',recursive=True):\n",
    "    filename_wout_extension = file[len('faust/'):-len('.dsp')]\n",
    "    cpp_filename = \"faust_cpp/\"+filename_wout_extension + \".cpp\"\n",
    "    bin_path = \"bin/\" + filename_wout_extension\n",
    "    bin_parent_folder = \"/\".join(bin_path.split(\"/\")[:-1])\n",
    "    if REGENERATE_CPP:\n",
    "        bashCommand = \"faust -a sndfile.cpp \"+ file + \" > \" + cpp_filename\n",
    "        print(bashCommand)\n",
    "        os.system(bashCommand)\n",
    "    if COMPILE_CPP:\n",
    "        # make parent directory if it does not exist\n",
    "        os.system('mkdir -p '+bin_parent_folder)\n",
    "        bashCommand = \"clang++ -o \"+ bin_path + \" -lsndfile \" + cpp_filename\n",
    "        print(bashCommand)\n",
    "        os.system(bashCommand)\n",
    "print('DSP files compilation done!')"
   ]
  },
  {
   "cell_type": "code",
   "execution_count": 43,
   "metadata": {},
   "outputs": [
    {
     "name": "stdout",
     "output_type": "stream",
     "text": [
      "bin/autovocoder1 SOL-ordinario/Brass/English-Horn/ordinario/EH_nA-4_120-A#3-f.wav SOL-ordinario/FXd/Brass/English-Horn/ordinario/EH_nA-4_120-A#3-f__autovocoder1.wav\n",
      "bin/autovocoder2 SOL-ordinario/Brass/English-Horn/ordinario/EH_nA-4_120-A#3-f.wav SOL-ordinario/FXd/Brass/English-Horn/ordinario/EH_nA-4_120-A#3-f__autovocoder2.wav\n",
      "bin/autowah1 SOL-ordinario/Brass/English-Horn/ordinario/EH_nA-4_120-A#3-f.wav SOL-ordinario/FXd/Brass/English-Horn/ordinario/EH_nA-4_120-A#3-f__autowah1.wav\n",
      "bin/autowah2 SOL-ordinario/Brass/English-Horn/ordinario/EH_nA-4_120-A#3-f.wav SOL-ordinario/FXd/Brass/English-Horn/ordinario/EH_nA-4_120-A#3-f__autowah2.wav\n",
      "bin/autowah3 SOL-ordinario/Brass/English-Horn/ordinario/EH_nA-4_120-A#3-f.wav SOL-ordinario/FXd/Brass/English-Horn/ordinario/EH_nA-4_120-A#3-f__autowah3.wav\n",
      "bin/autowah4 SOL-ordinario/Brass/English-Horn/ordinario/EH_nA-4_120-A#3-f.wav SOL-ordinario/FXd/Brass/English-Horn/ordinario/EH_nA-4_120-A#3-f__autowah4.wav\n",
      "bin/distortion SOL-ordinario/Brass/English-Horn/ordinario/EH_nA-4_120-A#3-f.wav SOL-ordinario/FXd/Brass/English-Horn/ordinario/EH_nA-4_120-A#3-f__distortion.wav\n",
      "bin/flanger_demo SOL-ordinario/Brass/English-Horn/ordinario/EH_nA-4_120-A#3-f.wav SOL-ordinario/FXd/Brass/English-Horn/ordinario/EH_nA-4_120-A#3-f__flanger_demo.wav\n",
      "bin/freeverb_demo SOL-ordinario/Brass/English-Horn/ordinario/EH_nA-4_120-A#3-f.wav SOL-ordinario/FXd/Brass/English-Horn/ordinario/EH_nA-4_120-A#3-f__freeverb_demo.wav\n",
      "bin/moog SOL-ordinario/Brass/English-Horn/ordinario/EH_nA-4_120-A#3-f.wav SOL-ordinario/FXd/Brass/English-Horn/ordinario/EH_nA-4_120-A#3-f__moog.wav\n",
      "bin/phaser2_demo SOL-ordinario/Brass/English-Horn/ordinario/EH_nA-4_120-A#3-f.wav SOL-ordinario/FXd/Brass/English-Horn/ordinario/EH_nA-4_120-A#3-f__phaser2_demo.wav\n",
      "bin/wah1 SOL-ordinario/Brass/English-Horn/ordinario/EH_nA-4_120-A#3-f.wav SOL-ordinario/FXd/Brass/English-Horn/ordinario/EH_nA-4_120-A#3-f__wah1.wav\n",
      "bin/wah2 SOL-ordinario/Brass/English-Horn/ordinario/EH_nA-4_120-A#3-f.wav SOL-ordinario/FXd/Brass/English-Horn/ordinario/EH_nA-4_120-A#3-f__wah2.wav\n",
      "bin/wah3 SOL-ordinario/Brass/English-Horn/ordinario/EH_nA-4_120-A#3-f.wav SOL-ordinario/FXd/Brass/English-Horn/ordinario/EH_nA-4_120-A#3-f__wah3.wav\n",
      "bin/wah4 SOL-ordinario/Brass/English-Horn/ordinario/EH_nA-4_120-A#3-f.wav SOL-ordinario/FXd/Brass/English-Horn/ordinario/EH_nA-4_120-A#3-f__wah4.wav\n",
      "bin/distortion/cubic SOL-ordinario/Brass/English-Horn/ordinario/EH_nA-4_120-A#3-f.wav SOL-ordinario/FXd/Brass/English-Horn/ordinario/EH_nA-4_120-A#3-f__cubic.wav\n",
      "bin/distortion/cubic/cubic_0.25_0 SOL-ordinario/Brass/English-Horn/ordinario/EH_nA-4_120-A#3-f.wav SOL-ordinario/FXd/Brass/English-Horn/ordinario/EH_nA-4_120-A#3-f__cubic_0.25_0.wav\n",
      "bin/distortion/cubic/cubic_0.25_0.5 SOL-ordinario/Brass/English-Horn/ordinario/EH_nA-4_120-A#3-f.wav SOL-ordinario/FXd/Brass/English-Horn/ordinario/EH_nA-4_120-A#3-f__cubic_0.25_0.5.wav\n",
      "bin/distortion/cubic/cubic_0.5_0 SOL-ordinario/Brass/English-Horn/ordinario/EH_nA-4_120-A#3-f.wav SOL-ordinario/FXd/Brass/English-Horn/ordinario/EH_nA-4_120-A#3-f__cubic_0.5_0.wav\n",
      "bin/distortion/cubic/cubic_0.5_0.5 SOL-ordinario/Brass/English-Horn/ordinario/EH_nA-4_120-A#3-f.wav SOL-ordinario/FXd/Brass/English-Horn/ordinario/EH_nA-4_120-A#3-f__cubic_0.5_0.5.wav\n",
      "bin/distortion/cubic/cubic_0.75_0 SOL-ordinario/Brass/English-Horn/ordinario/EH_nA-4_120-A#3-f.wav SOL-ordinario/FXd/Brass/English-Horn/ordinario/EH_nA-4_120-A#3-f__cubic_0.75_0.wav\n",
      "bin/distortion/cubic/cubic_0.75_0.5 SOL-ordinario/Brass/English-Horn/ordinario/EH_nA-4_120-A#3-f.wav SOL-ordinario/FXd/Brass/English-Horn/ordinario/EH_nA-4_120-A#3-f__cubic_0.75_0.5.wav\n",
      "bin/distortion/cubic/cubic_1_0 SOL-ordinario/Brass/English-Horn/ordinario/EH_nA-4_120-A#3-f.wav SOL-ordinario/FXd/Brass/English-Horn/ordinario/EH_nA-4_120-A#3-f__cubic_1_0.wav\n",
      "bin/distortion/cubic/cubic_1_0.5 SOL-ordinario/Brass/English-Horn/ordinario/EH_nA-4_120-A#3-f.wav SOL-ordinario/FXd/Brass/English-Horn/ordinario/EH_nA-4_120-A#3-f__cubic_1_0.5.wav\n",
      "bin/moog/moog_vcf_0.75_3200 SOL-ordinario/Brass/English-Horn/ordinario/EH_nA-4_120-A#3-f.wav SOL-ordinario/FXd/Brass/English-Horn/ordinario/EH_nA-4_120-A#3-f__moog_vcf_0.75_3200.wav\n",
      "bin/moog/moog_vcf_0.25_100 SOL-ordinario/Brass/English-Horn/ordinario/EH_nA-4_120-A#3-f.wav SOL-ordinario/FXd/Brass/English-Horn/ordinario/EH_nA-4_120-A#3-f__moog_vcf_0.25_100.wav\n",
      "bin/moog/moog_vcf_0.25_12800 SOL-ordinario/Brass/English-Horn/ordinario/EH_nA-4_120-A#3-f.wav SOL-ordinario/FXd/Brass/English-Horn/ordinario/EH_nA-4_120-A#3-f__moog_vcf_0.25_12800.wav\n",
      "bin/moog/moog_vcf_0.25_1600 SOL-ordinario/Brass/English-Horn/ordinario/EH_nA-4_120-A#3-f.wav SOL-ordinario/FXd/Brass/English-Horn/ordinario/EH_nA-4_120-A#3-f__moog_vcf_0.25_1600.wav\n",
      "bin/moog/moog_vcf_0.25_200 SOL-ordinario/Brass/English-Horn/ordinario/EH_nA-4_120-A#3-f.wav SOL-ordinario/FXd/Brass/English-Horn/ordinario/EH_nA-4_120-A#3-f__moog_vcf_0.25_200.wav\n",
      "bin/moog/moog_vcf_0.25_25600 SOL-ordinario/Brass/English-Horn/ordinario/EH_nA-4_120-A#3-f.wav SOL-ordinario/FXd/Brass/English-Horn/ordinario/EH_nA-4_120-A#3-f__moog_vcf_0.25_25600.wav\n",
      "bin/moog/moog_vcf_0.25_3200 SOL-ordinario/Brass/English-Horn/ordinario/EH_nA-4_120-A#3-f.wav SOL-ordinario/FXd/Brass/English-Horn/ordinario/EH_nA-4_120-A#3-f__moog_vcf_0.25_3200.wav\n",
      "bin/moog/moog_vcf_0.25_400 SOL-ordinario/Brass/English-Horn/ordinario/EH_nA-4_120-A#3-f.wav SOL-ordinario/FXd/Brass/English-Horn/ordinario/EH_nA-4_120-A#3-f__moog_vcf_0.25_400.wav\n",
      "bin/moog/moog_vcf_0.25_50 SOL-ordinario/Brass/English-Horn/ordinario/EH_nA-4_120-A#3-f.wav SOL-ordinario/FXd/Brass/English-Horn/ordinario/EH_nA-4_120-A#3-f__moog_vcf_0.25_50.wav\n",
      "bin/moog/moog_vcf_0.25_6400 SOL-ordinario/Brass/English-Horn/ordinario/EH_nA-4_120-A#3-f.wav SOL-ordinario/FXd/Brass/English-Horn/ordinario/EH_nA-4_120-A#3-f__moog_vcf_0.25_6400.wav\n",
      "bin/moog/moog_vcf_0.25_800 SOL-ordinario/Brass/English-Horn/ordinario/EH_nA-4_120-A#3-f.wav SOL-ordinario/FXd/Brass/English-Horn/ordinario/EH_nA-4_120-A#3-f__moog_vcf_0.25_800.wav\n",
      "bin/moog/moog_vcf_0.5_100 SOL-ordinario/Brass/English-Horn/ordinario/EH_nA-4_120-A#3-f.wav SOL-ordinario/FXd/Brass/English-Horn/ordinario/EH_nA-4_120-A#3-f__moog_vcf_0.5_100.wav\n",
      "bin/moog/moog_vcf_0.5_12800 SOL-ordinario/Brass/English-Horn/ordinario/EH_nA-4_120-A#3-f.wav SOL-ordinario/FXd/Brass/English-Horn/ordinario/EH_nA-4_120-A#3-f__moog_vcf_0.5_12800.wav\n",
      "bin/moog/moog_vcf_0.5_1600 SOL-ordinario/Brass/English-Horn/ordinario/EH_nA-4_120-A#3-f.wav SOL-ordinario/FXd/Brass/English-Horn/ordinario/EH_nA-4_120-A#3-f__moog_vcf_0.5_1600.wav\n",
      "bin/moog/moog_vcf_0.5_200 SOL-ordinario/Brass/English-Horn/ordinario/EH_nA-4_120-A#3-f.wav SOL-ordinario/FXd/Brass/English-Horn/ordinario/EH_nA-4_120-A#3-f__moog_vcf_0.5_200.wav\n",
      "bin/moog/moog_vcf_0.5_25600 SOL-ordinario/Brass/English-Horn/ordinario/EH_nA-4_120-A#3-f.wav SOL-ordinario/FXd/Brass/English-Horn/ordinario/EH_nA-4_120-A#3-f__moog_vcf_0.5_25600.wav\n",
      "bin/moog/moog_vcf_0.5_3200 SOL-ordinario/Brass/English-Horn/ordinario/EH_nA-4_120-A#3-f.wav SOL-ordinario/FXd/Brass/English-Horn/ordinario/EH_nA-4_120-A#3-f__moog_vcf_0.5_3200.wav\n",
      "bin/moog/moog_vcf_0.5_400 SOL-ordinario/Brass/English-Horn/ordinario/EH_nA-4_120-A#3-f.wav SOL-ordinario/FXd/Brass/English-Horn/ordinario/EH_nA-4_120-A#3-f__moog_vcf_0.5_400.wav\n",
      "bin/moog/moog_vcf_0.5_50 SOL-ordinario/Brass/English-Horn/ordinario/EH_nA-4_120-A#3-f.wav SOL-ordinario/FXd/Brass/English-Horn/ordinario/EH_nA-4_120-A#3-f__moog_vcf_0.5_50.wav\n",
      "bin/moog/moog_vcf_0.5_6400 SOL-ordinario/Brass/English-Horn/ordinario/EH_nA-4_120-A#3-f.wav SOL-ordinario/FXd/Brass/English-Horn/ordinario/EH_nA-4_120-A#3-f__moog_vcf_0.5_6400.wav\n",
      "bin/moog/moog_vcf_0.5_800 SOL-ordinario/Brass/English-Horn/ordinario/EH_nA-4_120-A#3-f.wav SOL-ordinario/FXd/Brass/English-Horn/ordinario/EH_nA-4_120-A#3-f__moog_vcf_0.5_800.wav\n",
      "bin/moog/moog_vcf_0.75_100 SOL-ordinario/Brass/English-Horn/ordinario/EH_nA-4_120-A#3-f.wav SOL-ordinario/FXd/Brass/English-Horn/ordinario/EH_nA-4_120-A#3-f__moog_vcf_0.75_100.wav\n",
      "bin/moog/moog_vcf_0.75_12800 SOL-ordinario/Brass/English-Horn/ordinario/EH_nA-4_120-A#3-f.wav SOL-ordinario/FXd/Brass/English-Horn/ordinario/EH_nA-4_120-A#3-f__moog_vcf_0.75_12800.wav\n",
      "bin/moog/moog_vcf_0.75_1600 SOL-ordinario/Brass/English-Horn/ordinario/EH_nA-4_120-A#3-f.wav SOL-ordinario/FXd/Brass/English-Horn/ordinario/EH_nA-4_120-A#3-f__moog_vcf_0.75_1600.wav\n",
      "bin/moog/moog_vcf_0.75_200 SOL-ordinario/Brass/English-Horn/ordinario/EH_nA-4_120-A#3-f.wav SOL-ordinario/FXd/Brass/English-Horn/ordinario/EH_nA-4_120-A#3-f__moog_vcf_0.75_200.wav\n",
      "bin/moog/moog_vcf_0.75_25600 SOL-ordinario/Brass/English-Horn/ordinario/EH_nA-4_120-A#3-f.wav SOL-ordinario/FXd/Brass/English-Horn/ordinario/EH_nA-4_120-A#3-f__moog_vcf_0.75_25600.wav\n",
      "bin/moog/moog_vcf_0.75_400 SOL-ordinario/Brass/English-Horn/ordinario/EH_nA-4_120-A#3-f.wav SOL-ordinario/FXd/Brass/English-Horn/ordinario/EH_nA-4_120-A#3-f__moog_vcf_0.75_400.wav\n",
      "bin/moog/moog_vcf_0.75_50 SOL-ordinario/Brass/English-Horn/ordinario/EH_nA-4_120-A#3-f.wav SOL-ordinario/FXd/Brass/English-Horn/ordinario/EH_nA-4_120-A#3-f__moog_vcf_0.75_50.wav\n",
      "bin/moog/moog_vcf_0.75_6400 SOL-ordinario/Brass/English-Horn/ordinario/EH_nA-4_120-A#3-f.wav SOL-ordinario/FXd/Brass/English-Horn/ordinario/EH_nA-4_120-A#3-f__moog_vcf_0.75_6400.wav\n",
      "bin/moog/moog_vcf_0.75_800 SOL-ordinario/Brass/English-Horn/ordinario/EH_nA-4_120-A#3-f.wav SOL-ordinario/FXd/Brass/English-Horn/ordinario/EH_nA-4_120-A#3-f__moog_vcf_0.75_800.wav\n",
      "bin/moog/moog_vcf_0_100 SOL-ordinario/Brass/English-Horn/ordinario/EH_nA-4_120-A#3-f.wav SOL-ordinario/FXd/Brass/English-Horn/ordinario/EH_nA-4_120-A#3-f__moog_vcf_0_100.wav\n",
      "bin/moog/moog_vcf_0_12800 SOL-ordinario/Brass/English-Horn/ordinario/EH_nA-4_120-A#3-f.wav SOL-ordinario/FXd/Brass/English-Horn/ordinario/EH_nA-4_120-A#3-f__moog_vcf_0_12800.wav\n",
      "bin/moog/moog_vcf_0_1600 SOL-ordinario/Brass/English-Horn/ordinario/EH_nA-4_120-A#3-f.wav SOL-ordinario/FXd/Brass/English-Horn/ordinario/EH_nA-4_120-A#3-f__moog_vcf_0_1600.wav\n",
      "bin/moog/moog_vcf_0_200 SOL-ordinario/Brass/English-Horn/ordinario/EH_nA-4_120-A#3-f.wav SOL-ordinario/FXd/Brass/English-Horn/ordinario/EH_nA-4_120-A#3-f__moog_vcf_0_200.wav\n",
      "bin/moog/moog_vcf_0_25600 SOL-ordinario/Brass/English-Horn/ordinario/EH_nA-4_120-A#3-f.wav SOL-ordinario/FXd/Brass/English-Horn/ordinario/EH_nA-4_120-A#3-f__moog_vcf_0_25600.wav\n",
      "bin/moog/moog_vcf_0_3200 SOL-ordinario/Brass/English-Horn/ordinario/EH_nA-4_120-A#3-f.wav SOL-ordinario/FXd/Brass/English-Horn/ordinario/EH_nA-4_120-A#3-f__moog_vcf_0_3200.wav\n",
      "bin/moog/moog_vcf_0_400 SOL-ordinario/Brass/English-Horn/ordinario/EH_nA-4_120-A#3-f.wav SOL-ordinario/FXd/Brass/English-Horn/ordinario/EH_nA-4_120-A#3-f__moog_vcf_0_400.wav\n",
      "bin/moog/moog_vcf_0_50 SOL-ordinario/Brass/English-Horn/ordinario/EH_nA-4_120-A#3-f.wav SOL-ordinario/FXd/Brass/English-Horn/ordinario/EH_nA-4_120-A#3-f__moog_vcf_0_50.wav\n",
      "bin/moog/moog_vcf_0_6400 SOL-ordinario/Brass/English-Horn/ordinario/EH_nA-4_120-A#3-f.wav SOL-ordinario/FXd/Brass/English-Horn/ordinario/EH_nA-4_120-A#3-f__moog_vcf_0_6400.wav\n",
      "bin/moog/moog_vcf_0_800 SOL-ordinario/Brass/English-Horn/ordinario/EH_nA-4_120-A#3-f.wav SOL-ordinario/FXd/Brass/English-Horn/ordinario/EH_nA-4_120-A#3-f__moog_vcf_0_800.wav\n",
      "bin/moog/moog_vcf_1_100 SOL-ordinario/Brass/English-Horn/ordinario/EH_nA-4_120-A#3-f.wav SOL-ordinario/FXd/Brass/English-Horn/ordinario/EH_nA-4_120-A#3-f__moog_vcf_1_100.wav\n",
      "bin/moog/moog_vcf_1_12800 SOL-ordinario/Brass/English-Horn/ordinario/EH_nA-4_120-A#3-f.wav SOL-ordinario/FXd/Brass/English-Horn/ordinario/EH_nA-4_120-A#3-f__moog_vcf_1_12800.wav\n",
      "bin/moog/moog_vcf_1_1600 SOL-ordinario/Brass/English-Horn/ordinario/EH_nA-4_120-A#3-f.wav SOL-ordinario/FXd/Brass/English-Horn/ordinario/EH_nA-4_120-A#3-f__moog_vcf_1_1600.wav\n",
      "bin/moog/moog_vcf_1_200 SOL-ordinario/Brass/English-Horn/ordinario/EH_nA-4_120-A#3-f.wav SOL-ordinario/FXd/Brass/English-Horn/ordinario/EH_nA-4_120-A#3-f__moog_vcf_1_200.wav\n"
     ]
    },
    {
     "name": "stdout",
     "output_type": "stream",
     "text": [
      "bin/moog/moog_vcf_1_25600 SOL-ordinario/Brass/English-Horn/ordinario/EH_nA-4_120-A#3-f.wav SOL-ordinario/FXd/Brass/English-Horn/ordinario/EH_nA-4_120-A#3-f__moog_vcf_1_25600.wav\n",
      "bin/moog/moog_vcf_1_3200 SOL-ordinario/Brass/English-Horn/ordinario/EH_nA-4_120-A#3-f.wav SOL-ordinario/FXd/Brass/English-Horn/ordinario/EH_nA-4_120-A#3-f__moog_vcf_1_3200.wav\n",
      "bin/moog/moog_vcf_1_400 SOL-ordinario/Brass/English-Horn/ordinario/EH_nA-4_120-A#3-f.wav SOL-ordinario/FXd/Brass/English-Horn/ordinario/EH_nA-4_120-A#3-f__moog_vcf_1_400.wav\n",
      "bin/moog/moog_vcf_1_50 SOL-ordinario/Brass/English-Horn/ordinario/EH_nA-4_120-A#3-f.wav SOL-ordinario/FXd/Brass/English-Horn/ordinario/EH_nA-4_120-A#3-f__moog_vcf_1_50.wav\n",
      "bin/moog/moog_vcf_1_6400 SOL-ordinario/Brass/English-Horn/ordinario/EH_nA-4_120-A#3-f.wav SOL-ordinario/FXd/Brass/English-Horn/ordinario/EH_nA-4_120-A#3-f__moog_vcf_1_6400.wav\n",
      "bin/moog/moog_vcf_1_800 SOL-ordinario/Brass/English-Horn/ordinario/EH_nA-4_120-A#3-f.wav SOL-ordinario/FXd/Brass/English-Horn/ordinario/EH_nA-4_120-A#3-f__moog_vcf_1_800.wav\n"
     ]
    }
   ],
   "source": [
    "file = \"SOL-ordinario/Brass/English-Horn/ordinario/EH_nA-4_120-A#3-f.wav\"\n",
    "audio_file_without_ext = \".\".join(file.split(\".\")[:-1])\n",
    "\n",
    "for exe in glob.glob('bin/**/*',recursive=True):\n",
    "    #print(exe)\n",
    "    audio_file_without_ext = \".\".join(file.split(\".\")[:-1])\n",
    "    output_path = audio_file_without_ext.split(\"/\")\n",
    "    output_path.insert(1, \"FXd\")\n",
    "    output_file = \"/\".join(output_path) + \"__\" + exe.split(\"/\").pop() + \".wav\"\n",
    "    bashCommand = exe + \" \" + file + \" \" + output_file\n",
    "    #print(bashCommand)\n",
    "    os.system(bashCommand)\n",
    "    \n"
   ]
  },
  {
   "cell_type": "code",
   "execution_count": null,
   "metadata": {},
   "outputs": [],
   "source": []
  }
 ],
 "metadata": {
  "kernelspec": {
   "display_name": "Python 3",
   "language": "python",
   "name": "python3"
  },
  "language_info": {
   "codemirror_mode": {
    "name": "ipython",
    "version": 3
   },
   "file_extension": ".py",
   "mimetype": "text/x-python",
   "name": "python",
   "nbconvert_exporter": "python",
   "pygments_lexer": "ipython3",
   "version": "3.6.7"
  }
 },
 "nbformat": 4,
 "nbformat_minor": 2
}
